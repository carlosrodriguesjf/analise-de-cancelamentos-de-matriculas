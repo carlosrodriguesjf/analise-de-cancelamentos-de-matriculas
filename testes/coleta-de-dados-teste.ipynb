{
 "cells": [
  {
   "cell_type": "code",
   "execution_count": 518,
   "metadata": {},
   "outputs": [],
   "source": [
    "# importações\n",
    "from selenium import webdriver\n",
    "from selenium.webdriver.chrome.options import Options\n",
    "from selenium.webdriver.common.by import By\n",
    "from time import sleep\n",
    "from dotenv import load_dotenv\n",
    "import os\n",
    "import pandas as pd\n",
    "import unicodedata"
   ]
  },
  {
   "cell_type": "code",
   "execution_count": 519,
   "metadata": {},
   "outputs": [],
   "source": [
    "load_dotenv()\n",
    "\n",
    "# carregando variáveis de ambiente\n",
    "cpf = os.getenv('CPF')\n",
    "senha = os.getenv('SENHA')"
   ]
  },
  {
   "cell_type": "code",
   "execution_count": 520,
   "metadata": {},
   "outputs": [],
   "source": [
    "# carregando listas\n",
    "PALAVRAS_SAUDE = ['medicina','fisioterapia','nutricao','farmacia', 'EDUCAÇÃO FÍSICA', 'biologicas', 'enfermagem', 'odontologia']\n",
    "PALAVRAS_EXATAS = ['engenharia','matematica','estatistica', 'computacao', 'quimica', 'fisica', 'exatas','arquitetura']"
   ]
  },
  {
   "cell_type": "code",
   "execution_count": 521,
   "metadata": {},
   "outputs": [],
   "source": [
    "# função para remocao de acentos e pontuação\n",
    "def remover_acentos(texto):\n",
    "    # Normaliza o texto decompondo caracteres acentuados em caracteres base e marcas de acento\n",
    "    texto_normalizado = unicodedata.normalize('NFKD', texto)\n",
    "    \n",
    "    # Filtra apenas os caracteres que não são marcas de acento\n",
    "    return ''.join(c for c in texto_normalizado if not unicodedata.combining(c))\n"
   ]
  },
  {
   "cell_type": "code",
   "execution_count": 522,
   "metadata": {},
   "outputs": [],
   "source": [
    "# digitando em qual linha da plianilha Distribuição de Demandas - CAT v2.xlsx começar a coletar\n",
    "\n",
    "linha = int(input('Digite em qual linha da plianilha Distribuição de Demandas - CAT v2.xlsx a coleta deve começar'))\n",
    "linha_inicio = linha - 3\n"
   ]
  },
  {
   "cell_type": "code",
   "execution_count": 523,
   "metadata": {},
   "outputs": [],
   "source": [
    "# função para conexão do driver do selenium\n",
    "def iniciar_driver():\n",
    "    chrome_options = Options()\n",
    "\n",
    "    arguments = ['--lang=pt-BR', '--start-maximized',\n",
    "                '--incognito']\n",
    "\n",
    "    for argument in arguments:\n",
    "        chrome_options.add_argument(argument)\n",
    "\n",
    "\n",
    "    driver = webdriver.Chrome(options=chrome_options)\n",
    "    return driver\n",
    "\n",
    "driver = iniciar_driver()\n",
    "\n",
    "\n",
    "driver.get('https://siga.ufjf.br/')"
   ]
  },
  {
   "cell_type": "code",
   "execution_count": 524,
   "metadata": {},
   "outputs": [],
   "source": [
    "sleep(3)\n",
    "\n",
    "# Encontrar o iframe\n",
    "frame = driver.find_element(By.XPATH,\"//frameset/frame[@name='content']\")\n",
    "\n",
    "# Mudar para dentro do iframe\n",
    "driver.switch_to.frame(frame)\n",
    "\n",
    "# LOGANDO NO SIGA\n",
    "# Encontrando o campo login\n",
    "campo_login = driver.find_element(By.XPATH,\"//html//body//div[@id='content-autenticacao']/div[3]/form/input[@type='text']\")\n",
    "\n",
    "sleep(1)\n",
    "\n",
    "# preencher usuario no SIGA\n",
    "campo_login.send_keys(cpf)\n",
    "\n",
    "# selecionar e campo senha\n",
    "sleep(1)\n",
    "\n",
    "campo_senha = driver.find_element(By.XPATH,\"//html//body//div[@id='content-autenticacao']/div[3]/form/input[@type='password']\")\n",
    "campo_senha.send_keys(senha)\n",
    "\n",
    "# Encontrando o botão\n",
    "botao_login = driver.find_element(By.XPATH,\"//html//body//div[@id='content-autenticacao']/div[4]/div/a[@id='btnLogin3']/img[@class='botao'][1]\")\n",
    "botao_login.click()\n",
    "\n",
    "driver.switch_to.default_content()\n",
    "\n",
    "sleep(2)\n"
   ]
  },
  {
   "cell_type": "code",
   "execution_count": 525,
   "metadata": {},
   "outputs": [],
   "source": [
    "# Encontrar o iframe\n",
    "frame = driver.find_element(By.XPATH,\"//frameset/frame[@name='content']\")\n",
    "\n",
    "# Mudar para dentro do iframe\n",
    "driver.switch_to.frame(frame)\n",
    "\n",
    "sleep(1)\n",
    "\n",
    "# clicando em academico\n",
    "driver.find_element(By.XPATH,\"//div[@id='mainPanel']//div/a/div/span\").click()\n",
    "\n",
    "sleep(2)\n",
    "\n",
    "# clicando em consultas\n",
    "driver.find_element(By.XPATH,\"//div[@class='mBoxPane']//div[2]/div/div//div[3]/a/div/span\").click()\n",
    "\n",
    "sleep(2)\n",
    "# clicando em consulta alunos\n",
    "driver.find_element(By.XPATH,\"//div[@id='bodyLayout']/div/div/div//div[2]/div/div//div[2]/a/div/span\").click()\n",
    "\n",
    "\n",
    "# clicando no campo matricula\n",
    "driver.find_element(By.XPATH,\"//div/input[@name='matricula']\").click()"
   ]
  },
  {
   "cell_type": "code",
   "execution_count": 526,
   "metadata": {},
   "outputs": [],
   "source": [
    "# CRIANDO A TABELA COM OS NÚMEROS DE MATRÍCULA\n",
    "\n",
    "# definindo as colunas da base que serão importadas\n",
    "colunas = ['STATUS', 'Motivo para cancelamento', 'Matricula', 'CAMPUS', 'DATA PROTOCOLO', 'Nome completo:']\n",
    "\n",
    "# importando a base\n",
    "tabela = pd.read_excel('C:\\projetos\\Analise-de-cancelamentos-de-matricula-de-universidade\\dados\\Distribuição de Demandas - CAT v2.xlsx', sheet_name='Cancelamento de matrícula', usecols=colunas, header=1)\n"
   ]
  },
  {
   "cell_type": "code",
   "execution_count": 527,
   "metadata": {},
   "outputs": [],
   "source": [
    "# eliminando linhas em branco\n",
    "\n",
    "tabela = tabela.dropna(how='all')\n",
    "\n",
    "# renomeando colunas\n",
    "tabela_organizada = tabela.rename(columns={'STATUS':'Status','CAMPUS':'Campus','DATA PROTOCOLO': 'Data_protocolo', \n",
    "                                           'Nome completo:': 'Nome_completo', 'Motivo para cancelamento':'Motivo_cancelamento'})\n",
    "\n",
    "# reordenando colunas\n",
    "colunas = ['Status', 'Nome_completo', 'Motivo_cancelamento', 'Matricula', 'Campus', 'Data_protocolo']\n",
    "\n",
    "tabela_organizada = tabela_organizada[colunas]\n",
    "\n",
    "# selecionando a partir de qual linha deve-se considerar a tabela\n",
    "tabela_organizada = tabela_organizada[linha_inicio:]"
   ]
  },
  {
   "cell_type": "code",
   "execution_count": 528,
   "metadata": {},
   "outputs": [],
   "source": [
    "# ajustando o tipo de dados da coluna Data protocolo\n",
    "pd.to_datetime(tabela_organizada['Data_protocolo'])\n",
    "tabela_organizada['Data_protocolo'] = tabela_organizada['Data_protocolo'].dt.strftime('%d/%m/%Y')\n"
   ]
  },
  {
   "cell_type": "code",
   "execution_count": 529,
   "metadata": {},
   "outputs": [],
   "source": [
    "# eliminando erros e sujeira nos números de matrícula\n",
    "lista_matriculas = list(tabela_organizada['Matricula'])\n",
    "lista_matriculas = [str(texto) for texto in lista_matriculas]\n",
    "lista_matriculas = [matricula.replace(\" \", \"\").replace(\"\\t\", \"\").replace(\"\\n\", \"\").replace(\"\\r\", \"\").replace(\"\\xa0\", \"\").strip() for matricula in lista_matriculas]\n",
    "                        "
   ]
  },
  {
   "cell_type": "code",
   "execution_count": 530,
   "metadata": {},
   "outputs": [
    {
     "name": "stdout",
     "output_type": "stream",
     "text": [
      "Temos um total de 6 alunos que solicitaram o cancelamento de matrícula\n",
      "Aluno 1/6\n",
      "Aluno 2/6\n",
      "Aluno 3/6\n",
      "Aluno 4/6\n",
      "Aluno 5/6\n",
      "Aluno 6/6\n",
      "Coleta de dados terminada!\n"
     ]
    }
   ],
   "source": [
    "# criação da nova base de dados após ralização do webscraping no SIGA\n",
    "\n",
    "dados_alunos = []\n",
    "\n",
    "contador = 0\n",
    "\n",
    "print(f'Temos um total de {len(lista_matriculas)} alunos que solicitaram o cancelamento de matrícula')\n",
    "\n",
    "for matricula in lista_matriculas:\n",
    "\n",
    "    contador += 1\n",
    "\n",
    "    print(f'Aluno {contador}/{len(lista_matriculas)}')\n",
    "\n",
    "\n",
    "    # limpando o campo matrícula\n",
    "    driver.find_element(By.XPATH,\"//div/input[@name='matricula']\").clear()\n",
    "\n",
    "    sleep(1)\n",
    "\n",
    "    driver.find_element(By.XPATH,\"//div/input[@name='matricula']\").send_keys(matricula)\n",
    "\n",
    "    sleep(1)\n",
    "\n",
    "    driver.find_element(By.XPATH,\"//div[@id='formSituacaoAluno_row1']//span[@id='btnExibir_label']\").click()\n",
    "\n",
    "    sleep(1)\n",
    "\n",
    "\n",
    "    # coletando os dados pessoais do aluno\n",
    "    nome = driver.find_element(By.XPATH,\"//div[@id='bgPessoais']//div/input\").get_attribute('value')\n",
    "\n",
    "    sleep(1)\n",
    "\n",
    "    sexo = driver.find_element(By.XPATH,\"//div[@id='bgPessoais_row4']/div/div/div/div[3]/input\").get_attribute('value')\n",
    "\n",
    "    sleep(1)\n",
    "\n",
    "    data_nascimento = driver.find_element(By.XPATH,\"//div[@id='bgPessoais_row4']/div/div[2]/div/div/input\").get_attribute('value')\n",
    "\n",
    "    sleep(1)\n",
    "\n",
    "\n",
    "    # coletando os dados de ingresso do aluno\n",
    "    curso = driver.find_element(By.XPATH,\"//div[@id='bgIngresso']//div/input[@id='aluno::curso']\").get_attribute('value')\n",
    "\n",
    "    sleep(1)\n",
    "\n",
    "    tipo_ingresso = driver.find_element(By.XPATH,\"//div[@id='bgIngresso']//div[@id='bgIngresso_row3']//div/input[@id='programa::tipoIngresso']\").get_attribute('value')\n",
    "\n",
    "    sleep(1)\n",
    "\n",
    "    habilitacao = driver.find_element(By.XPATH,\"//div[@id='bgIngresso_row1']/div/div/div/div/input\").get_attribute('value')\n",
    "\n",
    "    sleep(1)\n",
    "\n",
    "    pontuacao = driver.find_element(By.XPATH,\"//div[@id='bgIngresso']//div[@id='bgIngresso_row3']//div/div[2]/div/div/input\").get_attribute('value')\n",
    "\n",
    "    sleep(1)\n",
    "\n",
    "    classificacao = driver.find_element(By.XPATH,\"//div[@id='bgIngresso_row3']//div/div[3]/div/div/input\").get_attribute('value')\n",
    "\n",
    "    sleep(1)\n",
    "\n",
    "    semestre_ingresso = driver.find_element(By.XPATH,\"//div[@id='bgIngresso_row2']//div[2]/div/div/input\").get_attribute('value')\n",
    "\n",
    "    ano_ingresso = matricula[:4]\n",
    "\n",
    "\n",
    "    # tratamento e preenchimento area\n",
    "\n",
    "    curso_tratado = remover_acentos(curso.split(' - ')[1].lower())\n",
    "\n",
    "    if any(palavra in curso_tratado for palavra in PALAVRAS_SAUDE):\n",
    "        area = 'Saúde'\n",
    "\n",
    "    elif curso_tratado == \"educacao fisica\":\n",
    "        area = 'Saúde'\n",
    "\n",
    "    elif curso_tratado == \"ead\":\n",
    "        area = 'Não determinado'\n",
    "\n",
    "    elif any(palavra in curso_tratado for palavra in PALAVRAS_EXATAS):\n",
    "        area = 'Exatas'\n",
    "\n",
    "    else:\n",
    "        area = 'Humanas'\n",
    "\n",
    "\n",
    "\n",
    "    # Adicionando os dados do aluno à lista\n",
    "\n",
    "    dados_alunos.append({\n",
    "        \"Matricula\": matricula,\n",
    "        \"Nome\": nome,\n",
    "        \"Sexo\": sexo,\n",
    "        \"Data_nascimento\": data_nascimento,\n",
    "        \"Curso\": curso,\n",
    "        \"Area\": area,\n",
    "        \"Tipo_ingresso\": tipo_ingresso,\n",
    "        \"Habilitacao\": habilitacao,\n",
    "        \"Pontuacao\": pontuacao,\n",
    "        \"Classificacao\": classificacao,\n",
    "        \"Semestre_ingresso\": semestre_ingresso,\n",
    "        \"Ano_ingresso\": ano_ingresso\n",
    "    })\n",
    "\n",
    "# Criando um DataFrame com os dados\n",
    "df_alunos = pd.DataFrame(dados_alunos)\n",
    "\n",
    "\n",
    "print('Coleta de dados terminada!')"
   ]
  },
  {
   "cell_type": "code",
   "execution_count": 531,
   "metadata": {},
   "outputs": [],
   "source": [
    "# resetando o índice da tabela_organizada\n",
    "tabela_organizada.reset_index(inplace=True)\n",
    "\n",
    "# excluindo a coluna Matrícula da tabela df_alunos\n",
    "df_alunos.drop(columns='Matricula', inplace = True)  \n",
    "\n",
    "# excluindo a coluna index da tabela df_alunos\n",
    "tabela_organizada.drop(columns='index', inplace=True)  \n",
    "\n",
    "# unindo as duas tabelas\n",
    "tabela_completa = tabela_organizada.join(df_alunos, how='inner')\n"
   ]
  },
  {
   "cell_type": "code",
   "execution_count": 532,
   "metadata": {},
   "outputs": [],
   "source": [
    "# reordenando colunas\n",
    "colunas = ['Status', 'Data_protocolo', 'Matricula', 'Nome_completo', 'Sexo',\n",
    "       'Data_nascimento', 'Campus', 'Motivo_cancelamento', 'Curso',\n",
    "       'Area', 'Habilitacao', 'Tipo_ingresso', 'Pontuacao', 'Classificacao',\n",
    "       'Ano_ingresso', 'Semestre_ingresso']\n",
    "\n",
    "tabela_completa = tabela_completa[colunas]"
   ]
  },
  {
   "cell_type": "code",
   "execution_count": 533,
   "metadata": {},
   "outputs": [
    {
     "name": "stdout",
     "output_type": "stream",
     "text": [
      "Programa encerrado!\n"
     ]
    }
   ],
   "source": [
    "# exportando a tabela\n",
    "tabela_completa.to_excel(r'C:\\projetos\\Analise-de-cancelamentos-de-matricula-de-universidade\\dados\\dados-coletados.xlsx', index = None)\n",
    "\n",
    "print('Programa encerrado!')"
   ]
  },
  {
   "cell_type": "code",
   "execution_count": null,
   "metadata": {},
   "outputs": [],
   "source": [
    "driver.close()"
   ]
  }
 ],
 "metadata": {
  "kernelspec": {
   "display_name": "venv",
   "language": "python",
   "name": "python3"
  },
  "language_info": {
   "codemirror_mode": {
    "name": "ipython",
    "version": 3
   },
   "file_extension": ".py",
   "mimetype": "text/x-python",
   "name": "python",
   "nbconvert_exporter": "python",
   "pygments_lexer": "ipython3",
   "version": "3.11.8"
  }
 },
 "nbformat": 4,
 "nbformat_minor": 2
}
