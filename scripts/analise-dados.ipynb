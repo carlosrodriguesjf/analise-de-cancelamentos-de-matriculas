{
 "cells": [
  {
   "cell_type": "markdown",
   "metadata": {},
   "source": [
    "#### ANÁLISE DOS DADOS DE CANCELAMENTO DE MATRÍCULA DE UMA UNIVERSIDADE ####"
   ]
  },
  {
   "cell_type": "code",
   "execution_count": 120,
   "metadata": {},
   "outputs": [],
   "source": [
    "# importações\n",
    "\n",
    "import pandas as pd\n",
    "from datetime import datetime\n",
    "import matplotlib.pyplot as plt\n",
    "from IPython.display import display, HTML"
   ]
  },
  {
   "cell_type": "code",
   "execution_count": 121,
   "metadata": {},
   "outputs": [],
   "source": [
    "# Carregando a base de dados\n",
    "df_cancelamentos = pd.read_excel(r'C:\\projetos\\analise-de-cancelamentos-de-matriculas\\dados\\base-de-dados.xlsx')"
   ]
  },
  {
   "cell_type": "code",
   "execution_count": 122,
   "metadata": {},
   "outputs": [
    {
     "data": {
      "text/html": [
       "<div>\n",
       "<style scoped>\n",
       "    .dataframe tbody tr th:only-of-type {\n",
       "        vertical-align: middle;\n",
       "    }\n",
       "\n",
       "    .dataframe tbody tr th {\n",
       "        vertical-align: top;\n",
       "    }\n",
       "\n",
       "    .dataframe thead th {\n",
       "        text-align: right;\n",
       "    }\n",
       "</style>\n",
       "<table border=\"1\" class=\"dataframe\">\n",
       "  <thead>\n",
       "    <tr style=\"text-align: right;\">\n",
       "      <th></th>\n",
       "      <th>data_protocolo</th>\n",
       "      <th>sexo</th>\n",
       "      <th>data_nascimento</th>\n",
       "      <th>campus</th>\n",
       "      <th>motivo_cancelamento</th>\n",
       "      <th>curso</th>\n",
       "      <th>area</th>\n",
       "      <th>tipo_ingresso</th>\n",
       "      <th>pontuacao</th>\n",
       "      <th>ano_ingresso</th>\n",
       "      <th>grupo</th>\n",
       "    </tr>\n",
       "  </thead>\n",
       "  <tbody>\n",
       "    <tr>\n",
       "      <th>115</th>\n",
       "      <td>2024-12-29</td>\n",
       "      <td>Feminino</td>\n",
       "      <td>1996-01-07</td>\n",
       "      <td>Salvador</td>\n",
       "      <td>Não especificado</td>\n",
       "      <td>66A - BACHARELADO INTERDISCIPLINAR EM ARTES E ...</td>\n",
       "      <td>Humanas</td>\n",
       "      <td>PAS</td>\n",
       "      <td>745.70</td>\n",
       "      <td>2018</td>\n",
       "      <td>GRUPO E</td>\n",
       "    </tr>\n",
       "    <tr>\n",
       "      <th>106</th>\n",
       "      <td>2022-07-18</td>\n",
       "      <td>Feminino</td>\n",
       "      <td>2002-05-22</td>\n",
       "      <td>Juiz de Fora</td>\n",
       "      <td>Outros</td>\n",
       "      <td>01ABI - ABI - CIÊNCIAS BIOLÓGICAS</td>\n",
       "      <td>Humanas</td>\n",
       "      <td>PAS</td>\n",
       "      <td>508.93</td>\n",
       "      <td>2022</td>\n",
       "      <td>GRUPO E</td>\n",
       "    </tr>\n",
       "    <tr>\n",
       "      <th>196</th>\n",
       "      <td>2020-07-21</td>\n",
       "      <td>Feminino</td>\n",
       "      <td>1979-07-01</td>\n",
       "      <td>Rio de Janeiro</td>\n",
       "      <td>Dificuldade de conciliar trabalho com estudo</td>\n",
       "      <td>07A - FARMÁCIA</td>\n",
       "      <td>Saúde</td>\n",
       "      <td>SISU</td>\n",
       "      <td>752.77</td>\n",
       "      <td>2023</td>\n",
       "      <td>GRUPO A</td>\n",
       "    </tr>\n",
       "    <tr>\n",
       "      <th>412</th>\n",
       "      <td>2022-08-27</td>\n",
       "      <td>Masculino</td>\n",
       "      <td>1999-11-09</td>\n",
       "      <td>Salvador</td>\n",
       "      <td>Problema de saúde</td>\n",
       "      <td>29LES - LETRAS</td>\n",
       "      <td>Humanas</td>\n",
       "      <td>Nova Modalidade/Habilitação</td>\n",
       "      <td>603.19</td>\n",
       "      <td>2022</td>\n",
       "      <td>Não Aplicável</td>\n",
       "    </tr>\n",
       "    <tr>\n",
       "      <th>321</th>\n",
       "      <td>2024-02-03</td>\n",
       "      <td>Masculino</td>\n",
       "      <td>1983-07-17</td>\n",
       "      <td>Juiz de Fora</td>\n",
       "      <td>Dificuldade de conciliar trabalho com estudo</td>\n",
       "      <td>04GV - DIREITO</td>\n",
       "      <td>Humanas</td>\n",
       "      <td>SISU</td>\n",
       "      <td>505.33</td>\n",
       "      <td>2023</td>\n",
       "      <td>GRUPO C</td>\n",
       "    </tr>\n",
       "  </tbody>\n",
       "</table>\n",
       "</div>"
      ],
      "text/plain": [
       "    data_protocolo       sexo data_nascimento          campus  \\\n",
       "115     2024-12-29   Feminino      1996-01-07        Salvador   \n",
       "106     2022-07-18   Feminino      2002-05-22    Juiz de Fora   \n",
       "196     2020-07-21   Feminino      1979-07-01  Rio de Janeiro   \n",
       "412     2022-08-27  Masculino      1999-11-09        Salvador   \n",
       "321     2024-02-03  Masculino      1983-07-17    Juiz de Fora   \n",
       "\n",
       "                              motivo_cancelamento  \\\n",
       "115                              Não especificado   \n",
       "106                                        Outros   \n",
       "196  Dificuldade de conciliar trabalho com estudo   \n",
       "412                             Problema de saúde   \n",
       "321  Dificuldade de conciliar trabalho com estudo   \n",
       "\n",
       "                                                 curso     area  \\\n",
       "115  66A - BACHARELADO INTERDISCIPLINAR EM ARTES E ...  Humanas   \n",
       "106                  01ABI - ABI - CIÊNCIAS BIOLÓGICAS  Humanas   \n",
       "196                                     07A - FARMÁCIA    Saúde   \n",
       "412                                     29LES - LETRAS  Humanas   \n",
       "321                                     04GV - DIREITO  Humanas   \n",
       "\n",
       "                   tipo_ingresso  pontuacao  ano_ingresso          grupo  \n",
       "115                          PAS     745.70          2018        GRUPO E  \n",
       "106                          PAS     508.93          2022        GRUPO E  \n",
       "196                         SISU     752.77          2023        GRUPO A  \n",
       "412  Nova Modalidade/Habilitação     603.19          2022  Não Aplicável  \n",
       "321                         SISU     505.33          2023        GRUPO C  "
      ]
     },
     "execution_count": 122,
     "metadata": {},
     "output_type": "execute_result"
    }
   ],
   "source": [
    "# visualizando uma amostra dos dados\n",
    "df_cancelamentos.sample(5)"
   ]
  },
  {
   "cell_type": "code",
   "execution_count": 123,
   "metadata": {},
   "outputs": [],
   "source": [
    "# separando os dados da coluna curso\n",
    "df_cancelamentos[['codigo', 'curso']] = df_cancelamentos['curso'].str.split(' - ', n = 1, expand=True)"
   ]
  },
  {
   "cell_type": "code",
   "execution_count": 124,
   "metadata": {},
   "outputs": [
    {
     "data": {
      "text/plain": [
       "data_protocolo         datetime64[ns]\n",
       "sexo                           object\n",
       "data_nascimento        datetime64[ns]\n",
       "campus                         object\n",
       "motivo_cancelamento            object\n",
       "curso                          object\n",
       "area                           object\n",
       "tipo_ingresso                  object\n",
       "pontuacao                     float64\n",
       "ano_ingresso                    int64\n",
       "grupo                          object\n",
       "codigo                         object\n",
       "dtype: object"
      ]
     },
     "execution_count": 124,
     "metadata": {},
     "output_type": "execute_result"
    }
   ],
   "source": [
    "# verificando os tipos de dados\n",
    "df_cancelamentos.dtypes"
   ]
  },
  {
   "cell_type": "code",
   "execution_count": 125,
   "metadata": {},
   "outputs": [
    {
     "name": "stdout",
     "output_type": "stream",
     "text": [
      "Itens únicos de SEXO: ['Masculino' 'Feminino']\n"
     ]
    }
   ],
   "source": [
    "# Verificando os valores únicos da variável sexo\n",
    "print(f\"Itens únicos de SEXO: {df_cancelamentos['sexo'].unique()}\")"
   ]
  },
  {
   "cell_type": "code",
   "execution_count": 126,
   "metadata": {},
   "outputs": [
    {
     "name": "stdout",
     "output_type": "stream",
     "text": [
      "Itens únicos de CAMPUS: ['Rio de Janeiro' 'Juiz de Fora' 'Salvador' 'São Paulo']\n"
     ]
    }
   ],
   "source": [
    "# Verificando os valores únicos da variável campus\n",
    "print(f\"Itens únicos de CAMPUS: {df_cancelamentos['campus'].unique()}\")"
   ]
  },
  {
   "cell_type": "code",
   "execution_count": 127,
   "metadata": {},
   "outputs": [
    {
     "name": "stdout",
     "output_type": "stream",
     "text": [
      "Itens únicos de GRUPO: ['GRUPO A' 'GRUPO C' 'GRUPO B' 'GRUPO D' 'GRUPO E' 'Não Aplicável'\n",
      " 'GRUPO H' 'GRUPO J' 'GRUPO C ' 'GRUPO E ' 'GRUPO D ' 'GRUPO A ']\n"
     ]
    }
   ],
   "source": [
    "# Verificando os valores únicos da variável grupo\n",
    "print(f\"Itens únicos de GRUPO: {df_cancelamentos['grupo'].unique()}\")"
   ]
  },
  {
   "cell_type": "code",
   "execution_count": 128,
   "metadata": {},
   "outputs": [
    {
     "name": "stdout",
     "output_type": "stream",
     "text": [
      "Itens únicos de MOTIVO DO CANCELAMENTO: ['Outros' 'Dificuldade de morar longe da família' 'Má qualidade do curso'\n",
      " 'Não especificado' 'Dificuldades financeiras'\n",
      " 'Falta de identificação e/ou interesse pelo curso'\n",
      " 'Expressa manifestação de vontade' 'Infraestrutura do Campus'\n",
      " 'Horário das aulas'\n",
      " 'Falta de matrícula em disciplina durante um semestre'\n",
      " 'Dificuldade de conciliar trabalho com estudo' 'Problema de saúde'\n",
      " 'Problema de relacionamento com estudantes e/ou docentes']\n"
     ]
    }
   ],
   "source": [
    "# Verificando os valores únicos da variável grupo\n",
    "print(f\"Itens únicos de MOTIVO DO CANCELAMENTO: {df_cancelamentos['motivo_cancelamento'].unique()}\")"
   ]
  },
  {
   "cell_type": "code",
   "execution_count": 129,
   "metadata": {},
   "outputs": [
    {
     "name": "stdout",
     "output_type": "stream",
     "text": [
      "Itens únicos de TIPO DE INGRESSO: ['SISU' 'VESTIBULAR' 'PAS'\n",
      " 'Opcao segundo ciclo do B. I.  em Ciencias Humanas'\n",
      " 'Matrícula como Graduado'\n",
      " 'Opcao segundo ciclo do B. I.  em Artes de Design' 'Transferência'\n",
      " 'Nova Modalidade/Habilitação'\n",
      " 'Opcao segundo ciclo do Bacharelado Ciencias Exatas' 'Mudança de Curso']\n"
     ]
    }
   ],
   "source": [
    "# Verificando os valores únicos da variável tipo_ingresso\n",
    "print(f\"Itens únicos de TIPO DE INGRESSO: {df_cancelamentos['tipo_ingresso'].unique()}\")"
   ]
  },
  {
   "cell_type": "code",
   "execution_count": 130,
   "metadata": {},
   "outputs": [
    {
     "name": "stdout",
     "output_type": "stream",
     "text": [
      "Itens únicos de ANO DE INGRESSO: [2022 2011 2012 2019 2020 2018 2021 2016 2023 2024 2015 2017 2013 2010\n",
      " 2014]\n"
     ]
    }
   ],
   "source": [
    "# Verificando os valores únicos da variável ano_ingresso\n",
    "print(f\"Itens únicos de ANO DE INGRESSO: {df_cancelamentos['ano_ingresso'].unique()}\")"
   ]
  },
  {
   "cell_type": "code",
   "execution_count": 131,
   "metadata": {},
   "outputs": [
    {
     "data": {
      "text/plain": [
       "(1550, 12)"
      ]
     },
     "execution_count": 131,
     "metadata": {},
     "output_type": "execute_result"
    }
   ],
   "source": [
    "# verificando quantos registros e variáveis presentes\n",
    "df_cancelamentos.shape"
   ]
  },
  {
   "cell_type": "code",
   "execution_count": 132,
   "metadata": {},
   "outputs": [
    {
     "data": {
      "text/plain": [
       "data_protocolo         0\n",
       "sexo                   0\n",
       "data_nascimento        0\n",
       "campus                 0\n",
       "motivo_cancelamento    0\n",
       "curso                  0\n",
       "area                   0\n",
       "tipo_ingresso          0\n",
       "pontuacao              0\n",
       "ano_ingresso           0\n",
       "grupo                  0\n",
       "codigo                 0\n",
       "dtype: int64"
      ]
     },
     "execution_count": 132,
     "metadata": {},
     "output_type": "execute_result"
    }
   ],
   "source": [
    "# verificando se existem valores ausentes\n",
    "df_cancelamentos.isnull().sum()"
   ]
  },
  {
   "cell_type": "markdown",
   "metadata": {},
   "source": [
    "## Analisando os dados dos cancelamentos de matrícula"
   ]
  },
  {
   "cell_type": "markdown",
   "metadata": {},
   "source": [
    "#### Perfil dos Estudantes que Cancelaram a Matrícula de graduação\n"
   ]
  },
  {
   "cell_type": "code",
   "execution_count": 133,
   "metadata": {},
   "outputs": [
    {
     "name": "stdout",
     "output_type": "stream",
     "text": [
      "Percentual: sexo\n",
      "Feminino     824\n",
      "Masculino    726\n",
      "Name: count, dtype: int64\n",
      "\n",
      "Contagem: sexo\n",
      "Feminino     53.16129\n",
      "Masculino    46.83871\n",
      "Name: count, dtype: float64\n"
     ]
    }
   ],
   "source": [
    "# Distribuição por Sexo: Percentual de cancelamentos por sexo\n",
    "contagem_sexo = df_cancelamentos['sexo'].value_counts()\n",
    "total_sexo = contagem_sexo.sum()\n",
    "percentual_sexo = (contagem_sexo / total_sexo) * 100\n",
    "\n",
    "print(f'Percentual: {contagem_sexo}')\n",
    "print(f'\\nContagem: {percentual_sexo}')\n"
   ]
  },
  {
   "cell_type": "code",
   "execution_count": 134,
   "metadata": {},
   "outputs": [
    {
     "data": {
      "image/png": "[encoded data removed]",
      "text/plain": [
       "<Figure size 640x480 with 1 Axes>"
      ]
     },
     "metadata": {},
     "output_type": "display_data"
    }
   ],
   "source": [
    "# Gráfico da Distribuição de cancelamento por sexo\n",
    "percentual_sexo.plot(kind= 'bar',color='#032030')\n",
    "plt.title('Distribuição de cancelamentos por sexo')\n",
    "plt.xlabel('Sexo')\n",
    "plt.ylabel('Percentual (%)')\n",
    "plt.xticks(rotation=0)\n",
    "plt.show()"
   ]
  },
  {
   "cell_type": "code",
   "execution_count": 135,
   "metadata": {},
   "outputs": [],
   "source": [
    "## CONCLUSÕES\n",
    "# Podemos concluir, de acordo com a análise, que alunos do sexo feminino (cerca de 53%)  solicitaram o cancelamento das sua matrícula."
   ]
  },
  {
   "cell_type": "code",
   "execution_count": 136,
   "metadata": {},
   "outputs": [
    {
     "name": "stdout",
     "output_type": "stream",
     "text": [
      "ano_ingresso\n",
      "2023    442\n",
      "2022    322\n",
      "2024    168\n",
      "2021    156\n",
      "2020    140\n",
      "2019     77\n",
      "2018     74\n",
      "2017     53\n",
      "2016     35\n",
      "2015     30\n",
      "2014     18\n",
      "2012     12\n",
      "2013     11\n",
      "2011      7\n",
      "2010      5\n",
      "Name: count, dtype: int64\n"
     ]
    }
   ],
   "source": [
    "# Analisando se estudantes de ingressos mais recentes ou mais antigos têm maior propensão ao cancelamento\n",
    "\n",
    "df_ano = df_cancelamentos['ano_ingresso']\n",
    "print(df_cancelamentos['ano_ingresso'].value_counts().sort_values(ascending=False))"
   ]
  },
  {
   "cell_type": "code",
   "execution_count": 137,
   "metadata": {},
   "outputs": [
    {
     "data": {
      "image/png": "[encoded data removed]",
      "text/plain": [
       "<Figure size 800x600 with 1 Axes>"
      ]
     },
     "metadata": {},
     "output_type": "display_data"
    }
   ],
   "source": [
    "# Contar os cancelamentos por ano\n",
    "cancelamentos_por_ano_ingresso = df_ano.value_counts().sort_index()\n",
    "\n",
    "# Dados para o gráfico\n",
    "x = cancelamentos_por_ano_ingresso.index  # Anos\n",
    "y = cancelamentos_por_ano_ingresso.values  # Quantidade de cancelamentos por ano\n",
    "\n",
    "# Criar o gráfico de barras\n",
    "plt.figure(figsize=(8, 6))\n",
    "plt.bar(x, y, color='#032030', edgecolor='black')\n",
    "\n",
    "# Personalizar o gráfico\n",
    "plt.title('Total de Cancelamentos por Ano de Ingresso', fontsize=14)\n",
    "#plt.xlabel('Ano de ingresso', fontsize=13)\n",
    "#plt.ylabel('Cancelamentos', fontsize=14)\n",
    "plt.xticks(x, rotation=45, fontsize=13)\n",
    "plt.yticks(fontsize=11)\n",
    "plt.tight_layout()\n",
    "\n",
    "# Exibir o gráfico\n",
    "plt.show()"
   ]
  },
  {
   "cell_type": "code",
   "execution_count": 138,
   "metadata": {},
   "outputs": [],
   "source": [
    "## CONCLUSÕES\n",
    "# Podemos observar um aumento progressivo de acordo com o ano de ingresso, culminando no ano de 2023, onde aconteceram 442 pedidos. \n",
    "# Um aumento de cerca de 37% em relação as pessoas que ingressaram no ano anterior"
   ]
  },
  {
   "cell_type": "markdown",
   "metadata": {},
   "source": [
    "#### Análisando a quantidade de cancelamentos por idade "
   ]
  },
  {
   "cell_type": "code",
   "execution_count": 139,
   "metadata": {},
   "outputs": [],
   "source": [
    "# coletando dados da data atual\n",
    "data_atual = datetime.now()\n",
    "ano_atual = data_atual.year"
   ]
  },
  {
   "cell_type": "code",
   "execution_count": 140,
   "metadata": {},
   "outputs": [
    {
     "data": {
      "text/html": [
       "<div>\n",
       "<style scoped>\n",
       "    .dataframe tbody tr th:only-of-type {\n",
       "        vertical-align: middle;\n",
       "    }\n",
       "\n",
       "    .dataframe tbody tr th {\n",
       "        vertical-align: top;\n",
       "    }\n",
       "\n",
       "    .dataframe thead th {\n",
       "        text-align: right;\n",
       "    }\n",
       "</style>\n",
       "<table border=\"1\" class=\"dataframe\">\n",
       "  <thead>\n",
       "    <tr style=\"text-align: right;\">\n",
       "      <th></th>\n",
       "      <th>data_protocolo</th>\n",
       "      <th>sexo</th>\n",
       "      <th>data_nascimento</th>\n",
       "      <th>campus</th>\n",
       "      <th>motivo_cancelamento</th>\n",
       "      <th>curso</th>\n",
       "      <th>area</th>\n",
       "      <th>tipo_ingresso</th>\n",
       "      <th>pontuacao</th>\n",
       "      <th>ano_ingresso</th>\n",
       "      <th>grupo</th>\n",
       "      <th>codigo</th>\n",
       "      <th>idade</th>\n",
       "    </tr>\n",
       "  </thead>\n",
       "  <tbody>\n",
       "    <tr>\n",
       "      <th>0</th>\n",
       "      <td>2024-12-30</td>\n",
       "      <td>Masculino</td>\n",
       "      <td>1986-07-11</td>\n",
       "      <td>Rio de Janeiro</td>\n",
       "      <td>Outros</td>\n",
       "      <td>CIÊNCIAS ECONÔMICAS</td>\n",
       "      <td>Humanas</td>\n",
       "      <td>SISU</td>\n",
       "      <td>498.67</td>\n",
       "      <td>2022</td>\n",
       "      <td>GRUPO A</td>\n",
       "      <td>03GV</td>\n",
       "      <td>39</td>\n",
       "    </tr>\n",
       "    <tr>\n",
       "      <th>1</th>\n",
       "      <td>2024-11-17</td>\n",
       "      <td>Masculino</td>\n",
       "      <td>1982-02-07</td>\n",
       "      <td>Juiz de Fora</td>\n",
       "      <td>Dificuldade de morar longe da família</td>\n",
       "      <td>TURISMO</td>\n",
       "      <td>Humanas</td>\n",
       "      <td>SISU</td>\n",
       "      <td>517.58</td>\n",
       "      <td>2022</td>\n",
       "      <td>GRUPO C</td>\n",
       "      <td>93A</td>\n",
       "      <td>43</td>\n",
       "    </tr>\n",
       "    <tr>\n",
       "      <th>2</th>\n",
       "      <td>2024-12-14</td>\n",
       "      <td>Feminino</td>\n",
       "      <td>2007-04-07</td>\n",
       "      <td>Juiz de Fora</td>\n",
       "      <td>Má qualidade do curso</td>\n",
       "      <td>BACHARELADO INTERDISCIPLINAR EM CIÊNCIAS HUMANAS</td>\n",
       "      <td>Humanas</td>\n",
       "      <td>SISU</td>\n",
       "      <td>422.18</td>\n",
       "      <td>2022</td>\n",
       "      <td>GRUPO B</td>\n",
       "      <td>72A</td>\n",
       "      <td>18</td>\n",
       "    </tr>\n",
       "    <tr>\n",
       "      <th>3</th>\n",
       "      <td>2024-12-28</td>\n",
       "      <td>Masculino</td>\n",
       "      <td>1989-12-29</td>\n",
       "      <td>Juiz de Fora</td>\n",
       "      <td>Não especificado</td>\n",
       "      <td>GEOGRAFIA</td>\n",
       "      <td>Humanas</td>\n",
       "      <td>VESTIBULAR</td>\n",
       "      <td>713.18</td>\n",
       "      <td>2011</td>\n",
       "      <td>GRUPO C</td>\n",
       "      <td>10A</td>\n",
       "      <td>36</td>\n",
       "    </tr>\n",
       "    <tr>\n",
       "      <th>4</th>\n",
       "      <td>2023-08-22</td>\n",
       "      <td>Feminino</td>\n",
       "      <td>2000-05-18</td>\n",
       "      <td>Salvador</td>\n",
       "      <td>Dificuldade de morar longe da família</td>\n",
       "      <td>MEDICINA</td>\n",
       "      <td>Saúde</td>\n",
       "      <td>SISU</td>\n",
       "      <td>642.73</td>\n",
       "      <td>2012</td>\n",
       "      <td>GRUPO C</td>\n",
       "      <td>07GV</td>\n",
       "      <td>25</td>\n",
       "    </tr>\n",
       "  </tbody>\n",
       "</table>\n",
       "</div>"
      ],
      "text/plain": [
       "  data_protocolo       sexo data_nascimento          campus  \\\n",
       "0     2024-12-30  Masculino      1986-07-11  Rio de Janeiro   \n",
       "1     2024-11-17  Masculino      1982-02-07    Juiz de Fora   \n",
       "2     2024-12-14   Feminino      2007-04-07    Juiz de Fora   \n",
       "3     2024-12-28  Masculino      1989-12-29    Juiz de Fora   \n",
       "4     2023-08-22   Feminino      2000-05-18        Salvador   \n",
       "\n",
       "                     motivo_cancelamento  \\\n",
       "0                                 Outros   \n",
       "1  Dificuldade de morar longe da família   \n",
       "2                  Má qualidade do curso   \n",
       "3                       Não especificado   \n",
       "4  Dificuldade de morar longe da família   \n",
       "\n",
       "                                              curso     area tipo_ingresso  \\\n",
       "0                               CIÊNCIAS ECONÔMICAS  Humanas          SISU   \n",
       "1                                           TURISMO  Humanas          SISU   \n",
       "2  BACHARELADO INTERDISCIPLINAR EM CIÊNCIAS HUMANAS  Humanas          SISU   \n",
       "3                                         GEOGRAFIA  Humanas    VESTIBULAR   \n",
       "4                                          MEDICINA    Saúde          SISU   \n",
       "\n",
       "   pontuacao  ano_ingresso    grupo codigo  idade  \n",
       "0     498.67          2022  GRUPO A   03GV     39  \n",
       "1     517.58          2022  GRUPO C    93A     43  \n",
       "2     422.18          2022  GRUPO B    72A     18  \n",
       "3     713.18          2011  GRUPO C    10A     36  \n",
       "4     642.73          2012  GRUPO C   07GV     25  "
      ]
     },
     "execution_count": 140,
     "metadata": {},
     "output_type": "execute_result"
    }
   ],
   "source": [
    "# Transformando o tipo da variável ano_nascimento para data e criando a variável idade\n",
    "df_cancelamentos['idade'] = ano_atual - pd.to_datetime(df_cancelamentos['data_nascimento'],format=\"%d/%m/%Y\").dt.year \n",
    "df_cancelamentos.head()"
   ]
  },
  {
   "cell_type": "code",
   "execution_count": 141,
   "metadata": {},
   "outputs": [
    {
     "data": {
      "text/html": [
       "<div>\n",
       "<style scoped>\n",
       "    .dataframe tbody tr th:only-of-type {\n",
       "        vertical-align: middle;\n",
       "    }\n",
       "\n",
       "    .dataframe tbody tr th {\n",
       "        vertical-align: top;\n",
       "    }\n",
       "\n",
       "    .dataframe thead th {\n",
       "        text-align: right;\n",
       "    }\n",
       "</style>\n",
       "<table border=\"1\" class=\"dataframe\">\n",
       "  <thead>\n",
       "    <tr style=\"text-align: right;\">\n",
       "      <th></th>\n",
       "      <th>data_protocolo</th>\n",
       "      <th>sexo</th>\n",
       "      <th>data_nascimento</th>\n",
       "      <th>campus</th>\n",
       "      <th>motivo_cancelamento</th>\n",
       "      <th>curso</th>\n",
       "      <th>area</th>\n",
       "      <th>tipo_ingresso</th>\n",
       "      <th>pontuacao</th>\n",
       "      <th>ano_ingresso</th>\n",
       "      <th>grupo</th>\n",
       "      <th>codigo</th>\n",
       "      <th>idade</th>\n",
       "      <th>ano_protocolado</th>\n",
       "    </tr>\n",
       "  </thead>\n",
       "  <tbody>\n",
       "    <tr>\n",
       "      <th>0</th>\n",
       "      <td>2024-12-30</td>\n",
       "      <td>Masculino</td>\n",
       "      <td>1986-07-11</td>\n",
       "      <td>Rio de Janeiro</td>\n",
       "      <td>Outros</td>\n",
       "      <td>CIÊNCIAS ECONÔMICAS</td>\n",
       "      <td>Humanas</td>\n",
       "      <td>SISU</td>\n",
       "      <td>498.67</td>\n",
       "      <td>2022</td>\n",
       "      <td>GRUPO A</td>\n",
       "      <td>03GV</td>\n",
       "      <td>39</td>\n",
       "      <td>2024</td>\n",
       "    </tr>\n",
       "    <tr>\n",
       "      <th>1</th>\n",
       "      <td>2024-11-17</td>\n",
       "      <td>Masculino</td>\n",
       "      <td>1982-02-07</td>\n",
       "      <td>Juiz de Fora</td>\n",
       "      <td>Dificuldade de morar longe da família</td>\n",
       "      <td>TURISMO</td>\n",
       "      <td>Humanas</td>\n",
       "      <td>SISU</td>\n",
       "      <td>517.58</td>\n",
       "      <td>2022</td>\n",
       "      <td>GRUPO C</td>\n",
       "      <td>93A</td>\n",
       "      <td>43</td>\n",
       "      <td>2024</td>\n",
       "    </tr>\n",
       "    <tr>\n",
       "      <th>2</th>\n",
       "      <td>2024-12-14</td>\n",
       "      <td>Feminino</td>\n",
       "      <td>2007-04-07</td>\n",
       "      <td>Juiz de Fora</td>\n",
       "      <td>Má qualidade do curso</td>\n",
       "      <td>BACHARELADO INTERDISCIPLINAR EM CIÊNCIAS HUMANAS</td>\n",
       "      <td>Humanas</td>\n",
       "      <td>SISU</td>\n",
       "      <td>422.18</td>\n",
       "      <td>2022</td>\n",
       "      <td>GRUPO B</td>\n",
       "      <td>72A</td>\n",
       "      <td>18</td>\n",
       "      <td>2024</td>\n",
       "    </tr>\n",
       "    <tr>\n",
       "      <th>3</th>\n",
       "      <td>2024-12-28</td>\n",
       "      <td>Masculino</td>\n",
       "      <td>1989-12-29</td>\n",
       "      <td>Juiz de Fora</td>\n",
       "      <td>Não especificado</td>\n",
       "      <td>GEOGRAFIA</td>\n",
       "      <td>Humanas</td>\n",
       "      <td>VESTIBULAR</td>\n",
       "      <td>713.18</td>\n",
       "      <td>2011</td>\n",
       "      <td>GRUPO C</td>\n",
       "      <td>10A</td>\n",
       "      <td>36</td>\n",
       "      <td>2024</td>\n",
       "    </tr>\n",
       "    <tr>\n",
       "      <th>4</th>\n",
       "      <td>2023-08-22</td>\n",
       "      <td>Feminino</td>\n",
       "      <td>2000-05-18</td>\n",
       "      <td>Salvador</td>\n",
       "      <td>Dificuldade de morar longe da família</td>\n",
       "      <td>MEDICINA</td>\n",
       "      <td>Saúde</td>\n",
       "      <td>SISU</td>\n",
       "      <td>642.73</td>\n",
       "      <td>2012</td>\n",
       "      <td>GRUPO C</td>\n",
       "      <td>07GV</td>\n",
       "      <td>25</td>\n",
       "      <td>2023</td>\n",
       "    </tr>\n",
       "  </tbody>\n",
       "</table>\n",
       "</div>"
      ],
      "text/plain": [
       "  data_protocolo       sexo data_nascimento          campus  \\\n",
       "0     2024-12-30  Masculino      1986-07-11  Rio de Janeiro   \n",
       "1     2024-11-17  Masculino      1982-02-07    Juiz de Fora   \n",
       "2     2024-12-14   Feminino      2007-04-07    Juiz de Fora   \n",
       "3     2024-12-28  Masculino      1989-12-29    Juiz de Fora   \n",
       "4     2023-08-22   Feminino      2000-05-18        Salvador   \n",
       "\n",
       "                     motivo_cancelamento  \\\n",
       "0                                 Outros   \n",
       "1  Dificuldade de morar longe da família   \n",
       "2                  Má qualidade do curso   \n",
       "3                       Não especificado   \n",
       "4  Dificuldade de morar longe da família   \n",
       "\n",
       "                                              curso     area tipo_ingresso  \\\n",
       "0                               CIÊNCIAS ECONÔMICAS  Humanas          SISU   \n",
       "1                                           TURISMO  Humanas          SISU   \n",
       "2  BACHARELADO INTERDISCIPLINAR EM CIÊNCIAS HUMANAS  Humanas          SISU   \n",
       "3                                         GEOGRAFIA  Humanas    VESTIBULAR   \n",
       "4                                          MEDICINA    Saúde          SISU   \n",
       "\n",
       "   pontuacao  ano_ingresso    grupo codigo  idade  ano_protocolado  \n",
       "0     498.67          2022  GRUPO A   03GV     39             2024  \n",
       "1     517.58          2022  GRUPO C    93A     43             2024  \n",
       "2     422.18          2022  GRUPO B    72A     18             2024  \n",
       "3     713.18          2011  GRUPO C    10A     36             2024  \n",
       "4     642.73          2012  GRUPO C   07GV     25             2023  "
      ]
     },
     "execution_count": 141,
     "metadata": {},
     "output_type": "execute_result"
    }
   ],
   "source": [
    "# Transformando o tipo da variável data_protocolo para data e criando a variável ano_protocolado\n",
    "df_cancelamentos['ano_protocolado'] = pd.to_datetime(df_cancelamentos['data_protocolo'],format=\"%d/%m/%Y\").dt.year\n",
    "df_cancelamentos.head()"
   ]
  },
  {
   "cell_type": "code",
   "execution_count": 142,
   "metadata": {},
   "outputs": [],
   "source": [
    "# Alterando o tipo da variável ano_protocolado\n",
    "df_cancelamentos['idade'] = df_cancelamentos['idade'].astype(str)"
   ]
  },
  {
   "cell_type": "code",
   "execution_count": 143,
   "metadata": {},
   "outputs": [
    {
     "data": {
      "text/plain": [
       "idade\n",
       "18    181\n",
       "19    119\n",
       "25     80\n",
       "24     62\n",
       "23     61\n",
       "22     59\n",
       "26     56\n",
       "27     55\n",
       "33     52\n",
       "46     51\n",
       "Name: count, dtype: int64"
      ]
     },
     "execution_count": 143,
     "metadata": {},
     "output_type": "execute_result"
    }
   ],
   "source": [
    "# contagem de cancelamentos por idade\n",
    "cancelamentos_por_idade = df_cancelamentos['idade'].value_counts()\n",
    "cancelamentos_por_idade.head(10)"
   ]
  },
  {
   "cell_type": "code",
   "execution_count": 144,
   "metadata": {},
   "outputs": [
    {
     "data": {
      "image/png": "[encoded data removed]",
      "text/plain": [
       "<Figure size 1200x600 with 1 Axes>"
      ]
     },
     "metadata": {},
     "output_type": "display_data"
    }
   ],
   "source": [
    "# Contar os cancelamentos por ano de solicitação\n",
    "cancelamentos_por_idade = df_cancelamentos['idade'].value_counts().sort_index()\n",
    "\n",
    "# Dados para o gráfico\n",
    "x = cancelamentos_por_idade.index  # Anos\n",
    "y = cancelamentos_por_idade.values  # Quantidade de cancelamentos por ano\n",
    "\n",
    "# Criar o gráfico de barras\n",
    "plt.figure(figsize=(12, 6))\n",
    "plt.bar(x, y, color='#032030', edgecolor='black')\n",
    "\n",
    "# Personalizar o gráfico\n",
    "plt.title('Total de Cancelamentos por Idade', fontsize=14)\n",
    "plt.xticks(rotation=45, fontsize=12)\n",
    "plt.yticks(fontsize=11)\n",
    "plt.tight_layout()\n",
    "\n",
    "# Exibir o gráfico\n",
    "plt.show()"
   ]
  },
  {
   "cell_type": "code",
   "execution_count": 145,
   "metadata": {},
   "outputs": [],
   "source": [
    "## CONCLUSÔES\n",
    "# Podemos concluir que os alunos que pediram mais cancelamentos são os alunos mais novos - 18 anos, seguidos os de 19 anos"
   ]
  },
  {
   "cell_type": "markdown",
   "metadata": {},
   "source": [
    "### Qual o tipo de ingresso mais comum entre os alunos que cancelam?\n"
   ]
  },
  {
   "cell_type": "code",
   "execution_count": 146,
   "metadata": {},
   "outputs": [
    {
     "data": {
      "text/plain": [
       "tipo_ingresso\n",
       "SISU                                                  915\n",
       "PAS                                                   405\n",
       "VESTIBULAR                                            139\n",
       "Matrícula como Graduado                                23\n",
       "Nova Modalidade/Habilitação                            18\n",
       "Opcao segundo ciclo do B. I.  em Ciencias Humanas      17\n",
       "Opcao segundo ciclo do B. I.  em Artes de Design       16\n",
       "Opcao segundo ciclo do Bacharelado Ciencias Exatas      8\n",
       "Transferência                                           8\n",
       "Mudança de Curso                                        1\n",
       "dtype: int64"
      ]
     },
     "execution_count": 146,
     "metadata": {},
     "output_type": "execute_result"
    }
   ],
   "source": [
    "df_cancelamentos.groupby(['tipo_ingresso']).size().sort_values(ascending=False)"
   ]
  },
  {
   "cell_type": "code",
   "execution_count": 147,
   "metadata": {},
   "outputs": [],
   "source": [
    "# CONCLUSÕES\n",
    "# Verificamos que ingressante pelo SISU possuem mais que o dobro de cancelamentos pdo que o segundo que é o PAS"
   ]
  },
  {
   "cell_type": "markdown",
   "metadata": {},
   "source": [
    "#### Analisando a quantidade de cancelamentos por ano de solicitação"
   ]
  },
  {
   "cell_type": "code",
   "execution_count": 148,
   "metadata": {},
   "outputs": [],
   "source": [
    "# Alterando o tipo da variável ano_protocolado\n",
    "df_cancelamentos['ano_protocolado'] = df_cancelamentos['ano_protocolado'].astype(str)"
   ]
  },
  {
   "cell_type": "code",
   "execution_count": 149,
   "metadata": {},
   "outputs": [
    {
     "data": {
      "text/plain": [
       "ano_protocolado\n",
       "2023    361\n",
       "2021    315\n",
       "2022    302\n",
       "2024    296\n",
       "2020    276\n",
       "Name: count, dtype: int64"
      ]
     },
     "execution_count": 149,
     "metadata": {},
     "output_type": "execute_result"
    }
   ],
   "source": [
    "# contagem de cancelamentos por ano de solicitação\n",
    "cancelamentos_por_ano_protocolado = df_cancelamentos['ano_protocolado'].value_counts()\n",
    "cancelamentos_por_ano_protocolado"
   ]
  },
  {
   "cell_type": "code",
   "execution_count": 150,
   "metadata": {},
   "outputs": [
    {
     "data": {
      "image/png": "[encoded data removed]",
      "text/plain": [
       "<Figure size 800x600 with 1 Axes>"
      ]
     },
     "metadata": {},
     "output_type": "display_data"
    }
   ],
   "source": [
    "# Contar os cancelamentos por ano de solicitação\n",
    "cancelamentos_por_ano_protocolado = df_cancelamentos['ano_protocolado'].value_counts().sort_index()\n",
    "\n",
    "# Dados para o gráfico\n",
    "x = cancelamentos_por_ano_protocolado.index  # Anos\n",
    "y = cancelamentos_por_ano_protocolado.values  # Quantidade de cancelamentos por ano\n",
    "\n",
    "# Criar o gráfico de barras\n",
    "plt.figure(figsize=(8, 6))\n",
    "plt.bar(x, y, color='#032030', edgecolor='black')\n",
    "\n",
    "# Personalizar o gráfico\n",
    "plt.title('Cancelamentos por Ano', fontsize=14)\n",
    "plt.xticks(rotation=45, fontsize=13)\n",
    "plt.yticks(fontsize=11)\n",
    "plt.tight_layout()\n",
    "\n",
    "# Exibir o gráfico\n",
    "plt.show()"
   ]
  },
  {
   "cell_type": "markdown",
   "metadata": {},
   "source": [
    "### Cancelamento por Campus"
   ]
  },
  {
   "cell_type": "code",
   "execution_count": 151,
   "metadata": {},
   "outputs": [
    {
     "data": {
      "text/plain": [
       "campus\n",
       "Juiz de Fora      824\n",
       "Salvador          270\n",
       "Rio de Janeiro    236\n",
       "São Paulo         220\n",
       "Name: count, dtype: int64"
      ]
     },
     "execution_count": 151,
     "metadata": {},
     "output_type": "execute_result"
    }
   ],
   "source": [
    "# Verificando a quantidade de cancelamentos por Campus\n",
    "df_cancelamentos['campus'].value_counts()"
   ]
  },
  {
   "cell_type": "code",
   "execution_count": 152,
   "metadata": {},
   "outputs": [
    {
     "data": {
      "image/png": "[encoded data removed]",
      "text/plain": [
       "<Figure size 640x480 with 1 Axes>"
      ]
     },
     "metadata": {},
     "output_type": "display_data"
    }
   ],
   "source": [
    "contagem_cidades = df_cancelamentos['campus'].value_counts()\n",
    "\n",
    "# Mudar a cor do plano de fundo diretamente\n",
    "plt.gcf().set_facecolor('#0e5471')  # Cor de fundo (exemplo: azul claro)\n",
    "\n",
    "plt.pie(contagem_cidades, labels=contagem_cidades.index, colors=['#001931','#042841','#073751','#0b4561'], autopct= '%1.1f%%', textprops={'color':'white'})\n",
    "plt.title('Distribuição de cancelamentos por Campus',color = 'white')\n",
    "plt.show()"
   ]
  },
  {
   "cell_type": "markdown",
   "metadata": {},
   "source": [
    "#### Análise de acordo com as Razões para o Cancelamento"
   ]
  },
  {
   "cell_type": "code",
   "execution_count": 153,
   "metadata": {},
   "outputs": [
    {
     "data": {
      "image/png": "[encoded data removed]",
      "text/plain": [
       "<Figure size 1000x600 with 1 Axes>"
      ]
     },
     "metadata": {},
     "output_type": "display_data"
    }
   ],
   "source": [
    "# Contando os cancelamentos por motivo\n",
    "cancelamentos_por_motivo = df_cancelamentos['motivo_cancelamento'].value_counts()\n",
    "\n",
    "# Ordenar pela quantidade de cancelamentos em ordem decrescente\n",
    "cancelamentos_por_motivo = cancelamentos_por_motivo.sort_values(ascending=True)\n",
    "\n",
    "# Dados para o gráfico\n",
    "x = cancelamentos_por_motivo.index  # Motivos\n",
    "y = cancelamentos_por_motivo.values  # Quantidade de cancelamentos por motivo\n",
    "\n",
    "# Criar o gráfico de barras horizontais\n",
    "plt.figure(figsize=(10, 6))\n",
    "plt.barh(x, y, color='#032030', edgecolor='black')\n",
    "\n",
    "# Personalizar o gráfico\n",
    "plt.title('Quantidade de Cancelamentos por Motivo', fontsize=14, loc='center')\n",
    "plt.xlabel('Quantidade', fontsize=13)\n",
    "#plt.ylabel('Motivos', fontsize=13)\n",
    "\n",
    "bars = plt.barh(x, y, color='#032030', edgecolor='black')\n",
    "\n",
    "# Adicionar rótulos de dados diretamente nas barras\n",
    "plt.bar_label(bars, fmt='%d', padding=3, fontsize=10, label_type='edge')\n",
    "\n",
    "plt.gca().spines['top'].set_visible(False)\n",
    "plt.gca().spines['right'].set_visible(False)\n",
    "plt.gca().spines['left'].set_visible(False)\n",
    "plt.gca().spines['bottom'].set_visible(False)\n",
    "plt.gca().xaxis.set_visible(False)\n",
    "plt.gca().yaxis.set_ticks_position('none')\n",
    "\n",
    "\n",
    "plt.tight_layout()\n",
    "\n",
    "# Exibir o gráfico\n",
    "plt.show()\n"
   ]
  },
  {
   "cell_type": "code",
   "execution_count": 154,
   "metadata": {},
   "outputs": [],
   "source": [
    "## CONCLUSÕES\n",
    "# Através do gráfico, verificamos que a grande maioria das pessoas solicitou o cancelamento por questões financeiras"
   ]
  },
  {
   "cell_type": "markdown",
   "metadata": {},
   "source": [
    "### Motivos de cancelamentos  por Campus"
   ]
  },
  {
   "cell_type": "code",
   "execution_count": 155,
   "metadata": {},
   "outputs": [
    {
     "data": {
      "text/html": [
       "<h3>Motivos para o Cancelamento por Campus - Juiz de Fora</h3><table border=\"1\" class=\"dataframe\">\n",
       "  <thead>\n",
       "    <tr style=\"text-align: right;\">\n",
       "      <th>Motivos para o cancelamento</th>\n",
       "      <th>Total</th>\n",
       "    </tr>\n",
       "  </thead>\n",
       "  <tbody>\n",
       "    <tr>\n",
       "      <td>Dificuldades financeiras</td>\n",
       "      <td>151</td>\n",
       "    </tr>\n",
       "    <tr>\n",
       "      <td>Falta de identificação e/ou interesse pelo curso</td>\n",
       "      <td>118</td>\n",
       "    </tr>\n",
       "    <tr>\n",
       "      <td>Dificuldade de morar longe da família</td>\n",
       "      <td>67</td>\n",
       "    </tr>\n",
       "    <tr>\n",
       "      <td>Não especificado</td>\n",
       "      <td>67</td>\n",
       "    </tr>\n",
       "    <tr>\n",
       "      <td>Outros</td>\n",
       "      <td>65</td>\n",
       "    </tr>\n",
       "    <tr>\n",
       "      <td>Infraestrutura do Campus</td>\n",
       "      <td>59</td>\n",
       "    </tr>\n",
       "    <tr>\n",
       "      <td>Problema de saúde</td>\n",
       "      <td>58</td>\n",
       "    </tr>\n",
       "    <tr>\n",
       "      <td>Expressa manifestação de vontade</td>\n",
       "      <td>57</td>\n",
       "    </tr>\n",
       "    <tr>\n",
       "      <td>Falta de matrícula em disciplina durante um semestre</td>\n",
       "      <td>56</td>\n",
       "    </tr>\n",
       "    <tr>\n",
       "      <td>Má qualidade do curso</td>\n",
       "      <td>56</td>\n",
       "    </tr>\n",
       "    <tr>\n",
       "      <td>Dificuldade de conciliar trabalho com estudo</td>\n",
       "      <td>43</td>\n",
       "    </tr>\n",
       "    <tr>\n",
       "      <td>Horário das aulas</td>\n",
       "      <td>24</td>\n",
       "    </tr>\n",
       "    <tr>\n",
       "      <td>Problema de relacionamento com estudantes e/ou docentes</td>\n",
       "      <td>3</td>\n",
       "    </tr>\n",
       "  </tbody>\n",
       "</table>"
      ],
      "text/plain": [
       "<IPython.core.display.HTML object>"
      ]
     },
     "metadata": {},
     "output_type": "display_data"
    }
   ],
   "source": [
    "# Motivos por Campus - Juiz de Fora\n",
    "df_razoes_campus_jf = df_cancelamentos[df_cancelamentos['campus'] == 'Juiz de Fora'].groupby(['motivo_cancelamento']).size().reset_index(name='total').sort_values(by=['total'], ascending=[False])\n",
    "df_razoes_campus_jf.rename(columns={'motivo_cancelamento':'Motivos para o cancelamento','total':'Total'}, inplace=True)\n",
    "\n",
    "# Exibir com título\n",
    "display(HTML(f\"<h3>Motivos para o Cancelamento por Campus - Juiz de Fora</h3>{df_razoes_campus_jf.to_html(index=False)}\"))"
   ]
  },
  {
   "cell_type": "code",
   "execution_count": 156,
   "metadata": {},
   "outputs": [
    {
     "data": {
      "text/html": [
       "<h3>Motivos para o Cancelamento por Campus - Rio de Janeiro</h3><table border=\"1\" class=\"dataframe\">\n",
       "  <thead>\n",
       "    <tr style=\"text-align: right;\">\n",
       "      <th>Motivos para o cancelamento</th>\n",
       "      <th>Total</th>\n",
       "    </tr>\n",
       "  </thead>\n",
       "  <tbody>\n",
       "    <tr>\n",
       "      <td>Dificuldades financeiras</td>\n",
       "      <td>42</td>\n",
       "    </tr>\n",
       "    <tr>\n",
       "      <td>Falta de identificação e/ou interesse pelo curso</td>\n",
       "      <td>32</td>\n",
       "    </tr>\n",
       "    <tr>\n",
       "      <td>Outros</td>\n",
       "      <td>28</td>\n",
       "    </tr>\n",
       "    <tr>\n",
       "      <td>Infraestrutura do Campus</td>\n",
       "      <td>20</td>\n",
       "    </tr>\n",
       "    <tr>\n",
       "      <td>Dificuldade de morar longe da família</td>\n",
       "      <td>18</td>\n",
       "    </tr>\n",
       "    <tr>\n",
       "      <td>Não especificado</td>\n",
       "      <td>18</td>\n",
       "    </tr>\n",
       "    <tr>\n",
       "      <td>Problema de saúde</td>\n",
       "      <td>16</td>\n",
       "    </tr>\n",
       "    <tr>\n",
       "      <td>Expressa manifestação de vontade</td>\n",
       "      <td>14</td>\n",
       "    </tr>\n",
       "    <tr>\n",
       "      <td>Dificuldade de conciliar trabalho com estudo</td>\n",
       "      <td>14</td>\n",
       "    </tr>\n",
       "    <tr>\n",
       "      <td>Má qualidade do curso</td>\n",
       "      <td>13</td>\n",
       "    </tr>\n",
       "    <tr>\n",
       "      <td>Horário das aulas</td>\n",
       "      <td>11</td>\n",
       "    </tr>\n",
       "    <tr>\n",
       "      <td>Falta de matrícula em disciplina durante um semestre</td>\n",
       "      <td>8</td>\n",
       "    </tr>\n",
       "    <tr>\n",
       "      <td>Problema de relacionamento com estudantes e/ou docentes</td>\n",
       "      <td>2</td>\n",
       "    </tr>\n",
       "  </tbody>\n",
       "</table>"
      ],
      "text/plain": [
       "<IPython.core.display.HTML object>"
      ]
     },
     "metadata": {},
     "output_type": "display_data"
    }
   ],
   "source": [
    "# Motivos por Campus - Rio de Janeiro\n",
    "df_razoes_campus_rj = df_cancelamentos[df_cancelamentos['campus'] == 'Rio de Janeiro'].groupby(['motivo_cancelamento']).size().reset_index(name='total').sort_values(by=['total'], ascending=[False])\n",
    "df_razoes_campus_rj.rename(columns={'motivo_cancelamento':'Motivos para o cancelamento','total':'Total'}, inplace=True)\n",
    "\n",
    "# Exibir com título\n",
    "display(HTML(f\"<h3>Motivos para o Cancelamento por Campus - Rio de Janeiro</h3>{df_razoes_campus_rj.to_html(index=False)}\"))"
   ]
  },
  {
   "cell_type": "code",
   "execution_count": 157,
   "metadata": {},
   "outputs": [
    {
     "data": {
      "text/html": [
       "<h3>Motivos para o Cancelamento por Campus - São Paulo</h3><table border=\"1\" class=\"dataframe\">\n",
       "  <thead>\n",
       "    <tr style=\"text-align: right;\">\n",
       "      <th>Motivos para o cancelamento</th>\n",
       "      <th>Total</th>\n",
       "    </tr>\n",
       "  </thead>\n",
       "  <tbody>\n",
       "    <tr>\n",
       "      <td>Dificuldades financeiras</td>\n",
       "      <td>46</td>\n",
       "    </tr>\n",
       "    <tr>\n",
       "      <td>Falta de identificação e/ou interesse pelo curso</td>\n",
       "      <td>30</td>\n",
       "    </tr>\n",
       "    <tr>\n",
       "      <td>Expressa manifestação de vontade</td>\n",
       "      <td>20</td>\n",
       "    </tr>\n",
       "    <tr>\n",
       "      <td>Falta de matrícula em disciplina durante um semestre</td>\n",
       "      <td>20</td>\n",
       "    </tr>\n",
       "    <tr>\n",
       "      <td>Infraestrutura do Campus</td>\n",
       "      <td>18</td>\n",
       "    </tr>\n",
       "    <tr>\n",
       "      <td>Outros</td>\n",
       "      <td>16</td>\n",
       "    </tr>\n",
       "    <tr>\n",
       "      <td>Má qualidade do curso</td>\n",
       "      <td>14</td>\n",
       "    </tr>\n",
       "    <tr>\n",
       "      <td>Não especificado</td>\n",
       "      <td>13</td>\n",
       "    </tr>\n",
       "    <tr>\n",
       "      <td>Dificuldade de morar longe da família</td>\n",
       "      <td>13</td>\n",
       "    </tr>\n",
       "    <tr>\n",
       "      <td>Problema de saúde</td>\n",
       "      <td>12</td>\n",
       "    </tr>\n",
       "    <tr>\n",
       "      <td>Dificuldade de conciliar trabalho com estudo</td>\n",
       "      <td>9</td>\n",
       "    </tr>\n",
       "    <tr>\n",
       "      <td>Horário das aulas</td>\n",
       "      <td>8</td>\n",
       "    </tr>\n",
       "    <tr>\n",
       "      <td>Problema de relacionamento com estudantes e/ou docentes</td>\n",
       "      <td>1</td>\n",
       "    </tr>\n",
       "  </tbody>\n",
       "</table>"
      ],
      "text/plain": [
       "<IPython.core.display.HTML object>"
      ]
     },
     "metadata": {},
     "output_type": "display_data"
    }
   ],
   "source": [
    "# Motivos por Campus - São Paulo\n",
    "df_razoes_campus_sp = df_cancelamentos[df_cancelamentos['campus'] == 'São Paulo'].groupby(['motivo_cancelamento']).size().reset_index(name='total').sort_values(by=['total'], ascending=[False])\n",
    "df_razoes_campus_sp.rename(columns={'motivo_cancelamento':'Motivos para o cancelamento','total':'Total'}, inplace=True)\n",
    "\n",
    "# Exibir com título\n",
    "display(HTML(f\"<h3>Motivos para o Cancelamento por Campus - São Paulo</h3>{df_razoes_campus_sp.to_html(index=False)}\"))"
   ]
  },
  {
   "cell_type": "code",
   "execution_count": 158,
   "metadata": {},
   "outputs": [
    {
     "data": {
      "text/html": [
       "<h3>Motivos para o Cancelamento por Campus - Salvador</h3><table border=\"1\" class=\"dataframe\">\n",
       "  <thead>\n",
       "    <tr style=\"text-align: right;\">\n",
       "      <th>Motivos para o cancelamento</th>\n",
       "      <th>Total</th>\n",
       "    </tr>\n",
       "  </thead>\n",
       "  <tbody>\n",
       "    <tr>\n",
       "      <td>Dificuldades financeiras</td>\n",
       "      <td>48</td>\n",
       "    </tr>\n",
       "    <tr>\n",
       "      <td>Falta de identificação e/ou interesse pelo curso</td>\n",
       "      <td>40</td>\n",
       "    </tr>\n",
       "    <tr>\n",
       "      <td>Dificuldade de morar longe da família</td>\n",
       "      <td>27</td>\n",
       "    </tr>\n",
       "    <tr>\n",
       "      <td>Problema de saúde</td>\n",
       "      <td>21</td>\n",
       "    </tr>\n",
       "    <tr>\n",
       "      <td>Falta de matrícula em disciplina durante um semestre</td>\n",
       "      <td>19</td>\n",
       "    </tr>\n",
       "    <tr>\n",
       "      <td>Não especificado</td>\n",
       "      <td>19</td>\n",
       "    </tr>\n",
       "    <tr>\n",
       "      <td>Dificuldade de conciliar trabalho com estudo</td>\n",
       "      <td>18</td>\n",
       "    </tr>\n",
       "    <tr>\n",
       "      <td>Infraestrutura do Campus</td>\n",
       "      <td>18</td>\n",
       "    </tr>\n",
       "    <tr>\n",
       "      <td>Expressa manifestação de vontade</td>\n",
       "      <td>16</td>\n",
       "    </tr>\n",
       "    <tr>\n",
       "      <td>Outros</td>\n",
       "      <td>16</td>\n",
       "    </tr>\n",
       "    <tr>\n",
       "      <td>Má qualidade do curso</td>\n",
       "      <td>16</td>\n",
       "    </tr>\n",
       "    <tr>\n",
       "      <td>Horário das aulas</td>\n",
       "      <td>10</td>\n",
       "    </tr>\n",
       "    <tr>\n",
       "      <td>Problema de relacionamento com estudantes e/ou docentes</td>\n",
       "      <td>2</td>\n",
       "    </tr>\n",
       "  </tbody>\n",
       "</table>"
      ],
      "text/plain": [
       "<IPython.core.display.HTML object>"
      ]
     },
     "metadata": {},
     "output_type": "display_data"
    }
   ],
   "source": [
    "# Razões por Campus - Salvador\n",
    "df_razoes_campus_salvador = df_cancelamentos[df_cancelamentos['campus'] == 'Salvador'].groupby(['motivo_cancelamento']).size().reset_index(name='total').sort_values(by=['total'], ascending=[False])\n",
    "df_razoes_campus_salvador.rename(columns={'motivo_cancelamento':'Motivos para o cancelamento','total':'Total'}, inplace=True)\n",
    "\n",
    "# Exibir com título\n",
    "display(HTML(f\"<h3>Motivos para o Cancelamento por Campus - Salvador</h3>{df_razoes_campus_salvador.to_html(index=False)}\"))"
   ]
  },
  {
   "cell_type": "code",
   "execution_count": 159,
   "metadata": {},
   "outputs": [],
   "source": [
    "# CONCLUSÔES\n",
    "# Independente do campus, os motivos predominantes são Dificuldades financeiras e Falta de identificação ou interesse pelo curso"
   ]
  },
  {
   "cell_type": "markdown",
   "metadata": {},
   "source": [
    "#### Análise do cancelamento por Área de estudos"
   ]
  },
  {
   "cell_type": "code",
   "execution_count": 160,
   "metadata": {},
   "outputs": [
    {
     "data": {
      "text/plain": [
       "area\n",
       "Humanas    720\n",
       "Exatas     451\n",
       "Saúde      379\n",
       "Name: count, dtype: int64"
      ]
     },
     "execution_count": 160,
     "metadata": {},
     "output_type": "execute_result"
    }
   ],
   "source": [
    "# Verificando a quantidade de cancelamentos por Campus\n",
    "df_cancelamentos['area'].value_counts()"
   ]
  },
  {
   "cell_type": "code",
   "execution_count": 161,
   "metadata": {},
   "outputs": [
    {
     "data": {
      "image/png": "[encoded data removed]",
      "text/plain": [
       "<Figure size 800x600 with 1 Axes>"
      ]
     },
     "metadata": {},
     "output_type": "display_data"
    }
   ],
   "source": [
    "# Contar os cancelamentos por Área\n",
    "cancelamentos_por_area = df_cancelamentos['area'].value_counts().sort_index()\n",
    "\n",
    "# Dados para o gráfico\n",
    "x = cancelamentos_por_area.index  # Anos\n",
    "y = cancelamentos_por_area.values  # Quantidade de cancelamentos por ano\n",
    "\n",
    "# Criar o gráfico de barras\n",
    "plt.figure(figsize=(8, 6))\n",
    "plt.bar(x, y, color='#032030', edgecolor='black')\n",
    "\n",
    "# Personalizar o gráfico\n",
    "plt.title('Total de Cancelamentos por Área', fontsize=14)\n",
    "#plt.ylabel('Quantidade de Cancelamentos', fontsize=14)\n",
    "plt.xticks(fontsize=13)\n",
    "plt.yticks(fontsize=11)\n",
    "plt.tight_layout()\n",
    "\n",
    "# Exibir o gráfico\n",
    "plt.show()"
   ]
  },
  {
   "cell_type": "code",
   "execution_count": 162,
   "metadata": {},
   "outputs": [
    {
     "data": {
      "text/html": [
       "<h3>Top 10 Cursos com mais cancelamentos - Área de Humanas</h3><table border=\"1\" class=\"dataframe\">\n",
       "  <thead>\n",
       "    <tr style=\"text-align: right;\">\n",
       "      <th>Curso</th>\n",
       "      <th>Total</th>\n",
       "    </tr>\n",
       "  </thead>\n",
       "  <tbody>\n",
       "    <tr>\n",
       "      <td>BACHARELADO INTERDISCIPLINAR EM CIÊNCIAS HUMANAS</td>\n",
       "      <td>102</td>\n",
       "    </tr>\n",
       "    <tr>\n",
       "      <td>DIREITO</td>\n",
       "      <td>98</td>\n",
       "    </tr>\n",
       "    <tr>\n",
       "      <td>CIÊNCIAS ECONÔMICAS</td>\n",
       "      <td>50</td>\n",
       "    </tr>\n",
       "    <tr>\n",
       "      <td>ADMINISTRAÇÃO</td>\n",
       "      <td>40</td>\n",
       "    </tr>\n",
       "    <tr>\n",
       "      <td>ODONTOLOGIA</td>\n",
       "      <td>36</td>\n",
       "    </tr>\n",
       "    <tr>\n",
       "      <td>LETRAS</td>\n",
       "      <td>34</td>\n",
       "    </tr>\n",
       "    <tr>\n",
       "      <td>GEOGRAFIA</td>\n",
       "      <td>29</td>\n",
       "    </tr>\n",
       "    <tr>\n",
       "      <td>CINEMA E AUDIOVISUAL</td>\n",
       "      <td>23</td>\n",
       "    </tr>\n",
       "    <tr>\n",
       "      <td>PEDAGOGIA</td>\n",
       "      <td>23</td>\n",
       "    </tr>\n",
       "    <tr>\n",
       "      <td>ABI - CIÊNCIAS BIOLÓGICAS</td>\n",
       "      <td>22</td>\n",
       "    </tr>\n",
       "  </tbody>\n",
       "</table>"
      ],
      "text/plain": [
       "<IPython.core.display.HTML object>"
      ]
     },
     "metadata": {},
     "output_type": "display_data"
    }
   ],
   "source": [
    "# Cancelamentos por Curso - Top 10 - Humanas\n",
    "df_razoes_area_humanas = df_cancelamentos[df_cancelamentos['area'] == 'Humanas'].groupby(['curso']).size().reset_index(name='total').sort_values(by=['total'], ascending=[False])\n",
    "df_razoes_area_humanas.rename(columns={'curso':'Curso','total':'Total'}, inplace=True)\n",
    "# Exibir com título\n",
    "display(HTML(f\"<h3>Top 10 Cursos com mais cancelamentos - Área de Humanas</h3>{df_razoes_area_humanas.head(10).to_html(index=False)}\"))"
   ]
  },
  {
   "cell_type": "code",
   "execution_count": 163,
   "metadata": {},
   "outputs": [
    {
     "data": {
      "text/html": [
       "<h3>Motivos para o Cancelamento - Área de Humanas</h3><table border=\"1\" class=\"dataframe\">\n",
       "  <thead>\n",
       "    <tr style=\"text-align: right;\">\n",
       "      <th>Motivos para o cancelamento</th>\n",
       "      <th>Total</th>\n",
       "    </tr>\n",
       "  </thead>\n",
       "  <tbody>\n",
       "    <tr>\n",
       "      <td>Dificuldades financeiras</td>\n",
       "      <td>132</td>\n",
       "    </tr>\n",
       "    <tr>\n",
       "      <td>Falta de identificação e/ou interesse pelo curso</td>\n",
       "      <td>103</td>\n",
       "    </tr>\n",
       "    <tr>\n",
       "      <td>Outros</td>\n",
       "      <td>62</td>\n",
       "    </tr>\n",
       "    <tr>\n",
       "      <td>Infraestrutura do Campus</td>\n",
       "      <td>59</td>\n",
       "    </tr>\n",
       "    <tr>\n",
       "      <td>Dificuldade de morar longe da família</td>\n",
       "      <td>56</td>\n",
       "    </tr>\n",
       "    <tr>\n",
       "      <td>Expressa manifestação de vontade</td>\n",
       "      <td>52</td>\n",
       "    </tr>\n",
       "    <tr>\n",
       "      <td>Falta de matrícula em disciplina durante um semestre</td>\n",
       "      <td>50</td>\n",
       "    </tr>\n",
       "    <tr>\n",
       "      <td>Não especificado</td>\n",
       "      <td>49</td>\n",
       "    </tr>\n",
       "    <tr>\n",
       "      <td>Problema de saúde</td>\n",
       "      <td>48</td>\n",
       "    </tr>\n",
       "    <tr>\n",
       "      <td>Má qualidade do curso</td>\n",
       "      <td>48</td>\n",
       "    </tr>\n",
       "    <tr>\n",
       "      <td>Dificuldade de conciliar trabalho com estudo</td>\n",
       "      <td>39</td>\n",
       "    </tr>\n",
       "    <tr>\n",
       "      <td>Horário das aulas</td>\n",
       "      <td>22</td>\n",
       "    </tr>\n",
       "  </tbody>\n",
       "</table>"
      ],
      "text/plain": [
       "<IPython.core.display.HTML object>"
      ]
     },
     "metadata": {},
     "output_type": "display_data"
    }
   ],
   "source": [
    "# Motivos por Área - Humanas\n",
    "df_razoes_area_humanas = df_cancelamentos[df_cancelamentos['area'] == 'Humanas'].groupby(['motivo_cancelamento']).size().reset_index(name='total').sort_values(by=['total'], ascending=[False])\n",
    "df_razoes_area_humanas.rename(columns={'motivo_cancelamento':'Motivos para o cancelamento','total':'Total'}, inplace=True)\n",
    "# Exibir com título\n",
    "display(HTML(f\"<h3>Motivos para o Cancelamento - Área de Humanas</h3>{df_razoes_area_humanas.to_html(index=False)}\"))"
   ]
  },
  {
   "cell_type": "code",
   "execution_count": 164,
   "metadata": {},
   "outputs": [
    {
     "data": {
      "text/html": [
       "<h3>Top 10 Cursos com mais cancelamentos - Área de Exatas</h3><table border=\"1\" class=\"dataframe\">\n",
       "  <thead>\n",
       "    <tr style=\"text-align: right;\">\n",
       "      <th>Curso</th>\n",
       "      <th>Total</th>\n",
       "    </tr>\n",
       "  </thead>\n",
       "  <tbody>\n",
       "    <tr>\n",
       "      <td>CIÊNCIAS EXATAS</td>\n",
       "      <td>62</td>\n",
       "    </tr>\n",
       "    <tr>\n",
       "      <td>QUÍMICA</td>\n",
       "      <td>39</td>\n",
       "    </tr>\n",
       "    <tr>\n",
       "      <td>ENGENHARIA CIVIL</td>\n",
       "      <td>33</td>\n",
       "    </tr>\n",
       "    <tr>\n",
       "      <td>CIÊNCIA DA COMPUTAÇÃO</td>\n",
       "      <td>32</td>\n",
       "    </tr>\n",
       "    <tr>\n",
       "      <td>ENGENHARIA DE PRODUÇÃO</td>\n",
       "      <td>29</td>\n",
       "    </tr>\n",
       "    <tr>\n",
       "      <td>ENGENHARIA ELÉTRICA - SISTEMAS ELETRÔNICOS</td>\n",
       "      <td>22</td>\n",
       "    </tr>\n",
       "    <tr>\n",
       "      <td>FÍSICA</td>\n",
       "      <td>20</td>\n",
       "    </tr>\n",
       "    <tr>\n",
       "      <td>MATEMÁTICA</td>\n",
       "      <td>18</td>\n",
       "    </tr>\n",
       "    <tr>\n",
       "      <td>ENGENHARIA AMBIENTAL E SANITÁRIA</td>\n",
       "      <td>17</td>\n",
       "    </tr>\n",
       "    <tr>\n",
       "      <td>ENGENHARIA ELÉTRICA - ENERGIA</td>\n",
       "      <td>15</td>\n",
       "    </tr>\n",
       "  </tbody>\n",
       "</table>"
      ],
      "text/plain": [
       "<IPython.core.display.HTML object>"
      ]
     },
     "metadata": {},
     "output_type": "display_data"
    }
   ],
   "source": [
    "# Cancelamentos por Curso - Top 10 - Exatas\n",
    "df_razoes_area_exatas = df_cancelamentos[df_cancelamentos['area'] == 'Exatas'].groupby(['curso']).size().reset_index(name='total').sort_values(by=['total'], ascending=[False])\n",
    "df_razoes_area_exatas.rename(columns={'curso':'Curso','total':'Total'}, inplace=True)\n",
    "# Exibir com título\n",
    "display(HTML(f\"<h3>Top 10 Cursos com mais cancelamentos - Área de Exatas</h3>{df_razoes_area_exatas.head(10).to_html(index=False)}\"))"
   ]
  },
  {
   "cell_type": "code",
   "execution_count": 165,
   "metadata": {},
   "outputs": [
    {
     "data": {
      "text/html": [
       "<h3>Motivos para o Cancelamento - Área de Exatas</h3><table border=\"1\" class=\"dataframe\">\n",
       "  <thead>\n",
       "    <tr style=\"text-align: right;\">\n",
       "      <th>Motivos para o cancelamento</th>\n",
       "      <th>Total</th>\n",
       "    </tr>\n",
       "  </thead>\n",
       "  <tbody>\n",
       "    <tr>\n",
       "      <td>Dificuldades financeiras</td>\n",
       "      <td>85</td>\n",
       "    </tr>\n",
       "    <tr>\n",
       "      <td>Falta de identificação e/ou interesse pelo curso</td>\n",
       "      <td>68</td>\n",
       "    </tr>\n",
       "    <tr>\n",
       "      <td>Dificuldade de morar longe da família</td>\n",
       "      <td>40</td>\n",
       "    </tr>\n",
       "    <tr>\n",
       "      <td>Outros</td>\n",
       "      <td>39</td>\n",
       "    </tr>\n",
       "    <tr>\n",
       "      <td>Não especificado</td>\n",
       "      <td>33</td>\n",
       "    </tr>\n",
       "    <tr>\n",
       "      <td>Problema de saúde</td>\n",
       "      <td>31</td>\n",
       "    </tr>\n",
       "    <tr>\n",
       "      <td>Expressa manifestação de vontade</td>\n",
       "      <td>29</td>\n",
       "    </tr>\n",
       "    <tr>\n",
       "      <td>Infraestrutura do Campus</td>\n",
       "      <td>29</td>\n",
       "    </tr>\n",
       "    <tr>\n",
       "      <td>Má qualidade do curso</td>\n",
       "      <td>27</td>\n",
       "    </tr>\n",
       "    <tr>\n",
       "      <td>Falta de matrícula em disciplina durante um semestre</td>\n",
       "      <td>25</td>\n",
       "    </tr>\n",
       "    <tr>\n",
       "      <td>Dificuldade de conciliar trabalho com estudo</td>\n",
       "      <td>20</td>\n",
       "    </tr>\n",
       "    <tr>\n",
       "      <td>Horário das aulas</td>\n",
       "      <td>19</td>\n",
       "    </tr>\n",
       "    <tr>\n",
       "      <td>Problema de relacionamento com estudantes e/ou docentes</td>\n",
       "      <td>6</td>\n",
       "    </tr>\n",
       "  </tbody>\n",
       "</table>"
      ],
      "text/plain": [
       "<IPython.core.display.HTML object>"
      ]
     },
     "metadata": {},
     "output_type": "display_data"
    }
   ],
   "source": [
    "# Motivos por Área - Exatas\n",
    "df_razoes_area_exatas = df_cancelamentos[df_cancelamentos['area'] == 'Exatas'].groupby(['motivo_cancelamento']).size().reset_index(name='total').sort_values(by=['total'], ascending=[False])\n",
    "df_razoes_area_exatas.rename(columns={'motivo_cancelamento':'Motivos para o cancelamento','total':'Total'}, inplace=True)\n",
    "\n",
    "# Exibir com título\n",
    "display(HTML(f\"<h3>Motivos para o Cancelamento - Área de Exatas</h3>{df_razoes_area_exatas.to_html(index=False)}\"))"
   ]
  },
  {
   "cell_type": "code",
   "execution_count": 166,
   "metadata": {},
   "outputs": [
    {
     "data": {
      "text/html": [
       "<h3>Motivos para o Cancelamento - Área de Saúde</h3><table border=\"1\" class=\"dataframe\">\n",
       "  <thead>\n",
       "    <tr style=\"text-align: right;\">\n",
       "      <th>Curso</th>\n",
       "      <th>Total</th>\n",
       "    </tr>\n",
       "  </thead>\n",
       "  <tbody>\n",
       "    <tr>\n",
       "      <td>MEDICINA</td>\n",
       "      <td>77</td>\n",
       "    </tr>\n",
       "    <tr>\n",
       "      <td>NUTRIÇÃO</td>\n",
       "      <td>69</td>\n",
       "    </tr>\n",
       "    <tr>\n",
       "      <td>FARMÁCIA</td>\n",
       "      <td>62</td>\n",
       "    </tr>\n",
       "    <tr>\n",
       "      <td>ODONTOLOGIA</td>\n",
       "      <td>49</td>\n",
       "    </tr>\n",
       "    <tr>\n",
       "      <td>ENFERMAGEM</td>\n",
       "      <td>35</td>\n",
       "    </tr>\n",
       "    <tr>\n",
       "      <td>FISIOTERAPIA</td>\n",
       "      <td>29</td>\n",
       "    </tr>\n",
       "    <tr>\n",
       "      <td>MEDICINA VETERINÁRIA</td>\n",
       "      <td>20</td>\n",
       "    </tr>\n",
       "    <tr>\n",
       "      <td>EDUCAÇÃO FÍSICA</td>\n",
       "      <td>14</td>\n",
       "    </tr>\n",
       "    <tr>\n",
       "      <td>CIÊNCIAS BIOLÓGICAS</td>\n",
       "      <td>12</td>\n",
       "    </tr>\n",
       "    <tr>\n",
       "      <td>EDUCAÇÃO FÍSICA -  - PÓLO DE LAGOA SANTA</td>\n",
       "      <td>3</td>\n",
       "    </tr>\n",
       "    <tr>\n",
       "      <td>EDUCAÇÃO FÍSICA -  - PÓLO DE CATAGUASES</td>\n",
       "      <td>3</td>\n",
       "    </tr>\n",
       "    <tr>\n",
       "      <td>EDUCAÇÃO FÍSICA -  - PÓLO DE BOA ESPERANÇA</td>\n",
       "      <td>3</td>\n",
       "    </tr>\n",
       "    <tr>\n",
       "      <td>EDUCAÇÃO FÍSICA -  - PÓLO DE SETE LAGOAS</td>\n",
       "      <td>3</td>\n",
       "    </tr>\n",
       "  </tbody>\n",
       "</table>"
      ],
      "text/plain": [
       "<IPython.core.display.HTML object>"
      ]
     },
     "metadata": {},
     "output_type": "display_data"
    }
   ],
   "source": [
    "# Cancelamentos por Curso - Top 10 - Saúde\n",
    "df_razoes_area_saude = df_cancelamentos[df_cancelamentos['area'] == 'Saúde'].groupby(['curso']).size().reset_index(name='total').sort_values(by=['total'], ascending=[False])\n",
    "df_razoes_area_saude.rename(columns={'curso':'Curso','total':'Total'}, inplace=True)\n",
    "\n",
    "# Exibir com título\n",
    "display(HTML(f\"<h3>Motivos para o Cancelamento - Área de Saúde</h3>{df_razoes_area_saude.to_html(index=False)}\"))"
   ]
  },
  {
   "cell_type": "code",
   "execution_count": 167,
   "metadata": {},
   "outputs": [
    {
     "data": {
      "text/html": [
       "<h3>Motivos para o Cancelamento - Área de Saúde</h3><table border=\"1\" class=\"dataframe\">\n",
       "  <thead>\n",
       "    <tr style=\"text-align: right;\">\n",
       "      <th>Motivos para o cancelamento</th>\n",
       "      <th>Total</th>\n",
       "    </tr>\n",
       "  </thead>\n",
       "  <tbody>\n",
       "    <tr>\n",
       "      <td>Dificuldades financeiras</td>\n",
       "      <td>70</td>\n",
       "    </tr>\n",
       "    <tr>\n",
       "      <td>Falta de identificação e/ou interesse pelo curso</td>\n",
       "      <td>49</td>\n",
       "    </tr>\n",
       "    <tr>\n",
       "      <td>Não especificado</td>\n",
       "      <td>35</td>\n",
       "    </tr>\n",
       "    <tr>\n",
       "      <td>Dificuldade de morar longe da família</td>\n",
       "      <td>29</td>\n",
       "    </tr>\n",
       "    <tr>\n",
       "      <td>Falta de matrícula em disciplina durante um semestre</td>\n",
       "      <td>28</td>\n",
       "    </tr>\n",
       "    <tr>\n",
       "      <td>Problema de saúde</td>\n",
       "      <td>28</td>\n",
       "    </tr>\n",
       "    <tr>\n",
       "      <td>Infraestrutura do Campus</td>\n",
       "      <td>27</td>\n",
       "    </tr>\n",
       "    <tr>\n",
       "      <td>Expressa manifestação de vontade</td>\n",
       "      <td>26</td>\n",
       "    </tr>\n",
       "    <tr>\n",
       "      <td>Dificuldade de conciliar trabalho com estudo</td>\n",
       "      <td>25</td>\n",
       "    </tr>\n",
       "    <tr>\n",
       "      <td>Outros</td>\n",
       "      <td>24</td>\n",
       "    </tr>\n",
       "    <tr>\n",
       "      <td>Má qualidade do curso</td>\n",
       "      <td>24</td>\n",
       "    </tr>\n",
       "    <tr>\n",
       "      <td>Horário das aulas</td>\n",
       "      <td>12</td>\n",
       "    </tr>\n",
       "    <tr>\n",
       "      <td>Problema de relacionamento com estudantes e/ou docentes</td>\n",
       "      <td>2</td>\n",
       "    </tr>\n",
       "  </tbody>\n",
       "</table>"
      ],
      "text/plain": [
       "<IPython.core.display.HTML object>"
      ]
     },
     "metadata": {},
     "output_type": "display_data"
    }
   ],
   "source": [
    "# Razões por Área - Saúde\n",
    "df_razoes_area_saude = df_cancelamentos[df_cancelamentos['area'] == 'Saúde'].groupby(['motivo_cancelamento']).size().reset_index(name='total').sort_values(by=['total'], ascending=[False])\n",
    "df_razoes_area_saude.rename(columns={'motivo_cancelamento':'Motivos para o cancelamento','total':'Total'}, inplace=True)\n",
    "\n",
    "# Exibir com título\n",
    "display(HTML(f\"<h3>Motivos para o Cancelamento - Área de Saúde</h3>{df_razoes_area_saude.to_html(index=False)}\"))"
   ]
  },
  {
   "cell_type": "markdown",
   "metadata": {},
   "source": [
    "#### Análise do cancelamento por Curso"
   ]
  },
  {
   "cell_type": "code",
   "execution_count": 168,
   "metadata": {},
   "outputs": [
    {
     "data": {
      "text/html": [
       "<h3>Top 15 Cursos com mais Solicitações de cancelamento</h3><table border=\"1\" class=\"dataframe\">\n",
       "  <thead>\n",
       "    <tr style=\"text-align: right;\">\n",
       "      <th>Curso</th>\n",
       "      <th>Total</th>\n",
       "    </tr>\n",
       "  </thead>\n",
       "  <tbody>\n",
       "    <tr>\n",
       "      <td>BACHARELADO INTERDISCIPLINAR EM CIÊNCIAS HUMANAS</td>\n",
       "      <td>102</td>\n",
       "    </tr>\n",
       "    <tr>\n",
       "      <td>DIREITO</td>\n",
       "      <td>98</td>\n",
       "    </tr>\n",
       "    <tr>\n",
       "      <td>ODONTOLOGIA</td>\n",
       "      <td>85</td>\n",
       "    </tr>\n",
       "    <tr>\n",
       "      <td>MEDICINA</td>\n",
       "      <td>77</td>\n",
       "    </tr>\n",
       "    <tr>\n",
       "      <td>NUTRIÇÃO</td>\n",
       "      <td>69</td>\n",
       "    </tr>\n",
       "    <tr>\n",
       "      <td>FARMÁCIA</td>\n",
       "      <td>62</td>\n",
       "    </tr>\n",
       "    <tr>\n",
       "      <td>CIÊNCIAS EXATAS</td>\n",
       "      <td>62</td>\n",
       "    </tr>\n",
       "    <tr>\n",
       "      <td>CIÊNCIAS ECONÔMICAS</td>\n",
       "      <td>50</td>\n",
       "    </tr>\n",
       "    <tr>\n",
       "      <td>ADMINISTRAÇÃO</td>\n",
       "      <td>40</td>\n",
       "    </tr>\n",
       "    <tr>\n",
       "      <td>QUÍMICA</td>\n",
       "      <td>39</td>\n",
       "    </tr>\n",
       "    <tr>\n",
       "      <td>ENFERMAGEM</td>\n",
       "      <td>35</td>\n",
       "    </tr>\n",
       "    <tr>\n",
       "      <td>LETRAS</td>\n",
       "      <td>34</td>\n",
       "    </tr>\n",
       "    <tr>\n",
       "      <td>ENGENHARIA CIVIL</td>\n",
       "      <td>33</td>\n",
       "    </tr>\n",
       "    <tr>\n",
       "      <td>CIÊNCIA DA COMPUTAÇÃO</td>\n",
       "      <td>32</td>\n",
       "    </tr>\n",
       "    <tr>\n",
       "      <td>GEOGRAFIA</td>\n",
       "      <td>29</td>\n",
       "    </tr>\n",
       "  </tbody>\n",
       "</table>"
      ],
      "text/plain": [
       "<IPython.core.display.HTML object>"
      ]
     },
     "metadata": {},
     "output_type": "display_data"
    }
   ],
   "source": [
    "# Motivos por Curso - Top 15\n",
    "df_razoes_curso = df_cancelamentos[['curso','motivo_cancelamento']].groupby(['curso']).size().reset_index(name='total').sort_values(by=['total','curso'], ascending=[False,False])\n",
    "df_razoes_curso.rename(columns={'motivo_cancelamento':'Motivos para o cancelamento','total':'Total','curso':'Curso','area':'Área'}, inplace=True)\n",
    "\n",
    "# Exibir com título\n",
    "display(HTML(f\"<h3>Top 15 Cursos com mais Solicitações de cancelamento</h3>{df_razoes_curso.head(15).to_html(index=False)}\"))"
   ]
  },
  {
   "cell_type": "code",
   "execution_count": 169,
   "metadata": {},
   "outputs": [
    {
     "data": {
      "text/html": [
       "<h3>Top 15 Cursos com mais Solicitações de cancelamento levando em consideração os diferentes motivos</h3><table border=\"1\" class=\"dataframe\">\n",
       "  <thead>\n",
       "    <tr style=\"text-align: right;\">\n",
       "      <th>Curso</th>\n",
       "      <th>Motivos para o cancelamento</th>\n",
       "      <th>Total</th>\n",
       "    </tr>\n",
       "  </thead>\n",
       "  <tbody>\n",
       "    <tr>\n",
       "      <td>DIREITO</td>\n",
       "      <td>Dificuldades financeiras</td>\n",
       "      <td>19</td>\n",
       "    </tr>\n",
       "    <tr>\n",
       "      <td>BACHARELADO INTERDISCIPLINAR EM CIÊNCIAS HUMANAS</td>\n",
       "      <td>Dificuldades financeiras</td>\n",
       "      <td>19</td>\n",
       "    </tr>\n",
       "    <tr>\n",
       "      <td>ODONTOLOGIA</td>\n",
       "      <td>Falta de identificação e/ou interesse pelo curso</td>\n",
       "      <td>17</td>\n",
       "    </tr>\n",
       "    <tr>\n",
       "      <td>NUTRIÇÃO</td>\n",
       "      <td>Dificuldades financeiras</td>\n",
       "      <td>15</td>\n",
       "    </tr>\n",
       "    <tr>\n",
       "      <td>MEDICINA</td>\n",
       "      <td>Dificuldades financeiras</td>\n",
       "      <td>14</td>\n",
       "    </tr>\n",
       "    <tr>\n",
       "      <td>BACHARELADO INTERDISCIPLINAR EM CIÊNCIAS HUMANAS</td>\n",
       "      <td>Falta de identificação e/ou interesse pelo curso</td>\n",
       "      <td>14</td>\n",
       "    </tr>\n",
       "    <tr>\n",
       "      <td>CIÊNCIAS EXATAS</td>\n",
       "      <td>Falta de identificação e/ou interesse pelo curso</td>\n",
       "      <td>13</td>\n",
       "    </tr>\n",
       "    <tr>\n",
       "      <td>DIREITO</td>\n",
       "      <td>Outros</td>\n",
       "      <td>12</td>\n",
       "    </tr>\n",
       "    <tr>\n",
       "      <td>NUTRIÇÃO</td>\n",
       "      <td>Não especificado</td>\n",
       "      <td>11</td>\n",
       "    </tr>\n",
       "    <tr>\n",
       "      <td>NUTRIÇÃO</td>\n",
       "      <td>Problema de saúde</td>\n",
       "      <td>11</td>\n",
       "    </tr>\n",
       "    <tr>\n",
       "      <td>MEDICINA</td>\n",
       "      <td>Falta de identificação e/ou interesse pelo curso</td>\n",
       "      <td>11</td>\n",
       "    </tr>\n",
       "    <tr>\n",
       "      <td>FARMÁCIA</td>\n",
       "      <td>Dificuldades financeiras</td>\n",
       "      <td>11</td>\n",
       "    </tr>\n",
       "    <tr>\n",
       "      <td>DIREITO</td>\n",
       "      <td>Problema de saúde</td>\n",
       "      <td>11</td>\n",
       "    </tr>\n",
       "    <tr>\n",
       "      <td>ODONTOLOGIA</td>\n",
       "      <td>Não especificado</td>\n",
       "      <td>10</td>\n",
       "    </tr>\n",
       "    <tr>\n",
       "      <td>BACHARELADO INTERDISCIPLINAR EM CIÊNCIAS HUMANAS</td>\n",
       "      <td>Expressa manifestação de vontade</td>\n",
       "      <td>10</td>\n",
       "    </tr>\n",
       "  </tbody>\n",
       "</table>"
      ],
      "text/plain": [
       "<IPython.core.display.HTML object>"
      ]
     },
     "metadata": {},
     "output_type": "display_data"
    }
   ],
   "source": [
    "# MOtivos por Curso levando em consideração os diferentes motivos - Top 15\n",
    "df_razoes_curso = df_cancelamentos[['curso','motivo_cancelamento']].groupby(['curso','motivo_cancelamento']).size().reset_index(name='total').sort_values(by=['total','curso'], ascending=[False,False])\n",
    "df_razoes_curso.rename(columns={'motivo_cancelamento':'Motivos para o cancelamento','total':'Total','curso':'Curso','area':'Área'}, inplace=True)\n",
    "\n",
    "# Exibir com título\n",
    "display(HTML(f\"<h3>Top 15 Cursos com mais Solicitações de cancelamento levando em consideração os diferentes motivos</h3>{df_razoes_curso.head(15).to_html(index=False)}\"))"
   ]
  },
  {
   "cell_type": "code",
   "execution_count": 170,
   "metadata": {},
   "outputs": [
    {
     "data": {
      "image/png": "[encoded data removed]",
      "text/plain": [
       "<Figure size 1000x500 with 1 Axes>"
      ]
     },
     "metadata": {},
     "output_type": "display_data"
    }
   ],
   "source": [
    "# Agrupar os dados e selecionar os 15 principais cursos com maior número de cancelamentos\n",
    "top20_cancelamentos = (\n",
    "    df_cancelamentos.groupby(['curso'])['curso']\n",
    "    .count()\n",
    "    .sort_values(ascending=False)\n",
    "    .head(15)\n",
    ")\n",
    "\n",
    "# Criar o gráfico de barras horizontais\n",
    "fig, ax = plt.subplots(figsize=(10, 5))  # Aumentar altura para melhor visualização\n",
    "bar_container = ax.barh(top20_cancelamentos.index, top20_cancelamentos.values, color='#032030')\n",
    "\n",
    "# Inverter a ordem das barras (maior para menor no topo)\n",
    "ax.invert_yaxis()\n",
    "ax.set_xticks([])\n",
    "ax.tick_params(left=False, bottom=False)\n",
    "\n",
    "# Remover as bordas do gráfico\n",
    "ax.spines['top'].set_visible(False)\n",
    "ax.spines['right'].set_visible(False)\n",
    "ax.spines['left'].set_visible(False)\n",
    "ax.spines['bottom'].set_visible(False)\n",
    "\n",
    "# Personalizar o gráfico\n",
    "ax.set(\n",
    "    title='Top 15 Cursos por Cancelamentos',\n",
    "    xlim=(0, top20_cancelamentos.max() * 1.1)  # Ajustar o limite do eixo X para espaço extra\n",
    ")\n",
    "ax.bar_label(bar_container, fmt='{:,.0f}', label_type='edge', fontsize=10, padding=3)\n",
    "\n",
    "plt.tight_layout()  # Ajustar layout para evitar sobreposição\n",
    "plt.show()\n"
   ]
  },
  {
   "cell_type": "code",
   "execution_count": 171,
   "metadata": {},
   "outputs": [],
   "source": [
    "# CONCLUSÕES\n",
    "# Verificamos que a área  dos alunos que mais solicitam cancelamento é àrea de Humanas sendo que nessa área os alunos que mais cancelam são dos cursos \n",
    "# de BACHARELADO INTERDISCIPLINAR EM CIÊNCIAS HUMANAS, \tDIREITO\te CIÊNCIAS ECONÔMICAS\n",
    "\n",
    "# Na área de Exatas, segundo colocado no ranking de mais cancelamentos os alunos que mais cancelam são dos cursos de CIÊNCIAS EXATAS, QUÍMICA e ENGENHARIA CIVIL\t\n",
    "\n",
    "# Finalmente, na área de saúde, os alunos que mais cancelam são dos cursos de MEDICINA, NUTRIÇÃO, FARMÁCIA\n"
   ]
  },
  {
   "cell_type": "markdown",
   "metadata": {},
   "source": [
    "#### Análise do cancelamento por Grupo de Cotas"
   ]
  },
  {
   "cell_type": "code",
   "execution_count": 172,
   "metadata": {},
   "outputs": [],
   "source": [
    "# retirando da tabela os registros cujo grupo está prenchidos como \"Não se aplica\"\n",
    "df_cancelamentos_filtrada = df_cancelamentos.loc[df_cancelamentos['grupo'] != 'Não Aplicável',:]"
   ]
  },
  {
   "cell_type": "code",
   "execution_count": 173,
   "metadata": {},
   "outputs": [
    {
     "data": {
      "text/plain": [
       "1459"
      ]
     },
     "execution_count": 173,
     "metadata": {},
     "output_type": "execute_result"
    }
   ],
   "source": [
    "# verificando quantos registro existentes há agora após a exclusão dos registros\n",
    "df_cancelamentos_filtrada.shape[0]"
   ]
  },
  {
   "cell_type": "code",
   "execution_count": 174,
   "metadata": {},
   "outputs": [
    {
     "data": {
      "text/html": [
       "<div>\n",
       "<style scoped>\n",
       "    .dataframe tbody tr th:only-of-type {\n",
       "        vertical-align: middle;\n",
       "    }\n",
       "\n",
       "    .dataframe tbody tr th {\n",
       "        vertical-align: top;\n",
       "    }\n",
       "\n",
       "    .dataframe thead th {\n",
       "        text-align: right;\n",
       "    }\n",
       "</style>\n",
       "<table border=\"1\" class=\"dataframe\">\n",
       "  <thead>\n",
       "    <tr style=\"text-align: right;\">\n",
       "      <th></th>\n",
       "      <th>grupo</th>\n",
       "      <th>total_registros</th>\n",
       "    </tr>\n",
       "  </thead>\n",
       "  <tbody>\n",
       "    <tr>\n",
       "      <th>0</th>\n",
       "      <td>GRUPO C</td>\n",
       "      <td>823</td>\n",
       "    </tr>\n",
       "    <tr>\n",
       "      <th>1</th>\n",
       "      <td>GRUPO E</td>\n",
       "      <td>158</td>\n",
       "    </tr>\n",
       "    <tr>\n",
       "      <th>2</th>\n",
       "      <td>GRUPO A</td>\n",
       "      <td>157</td>\n",
       "    </tr>\n",
       "    <tr>\n",
       "      <th>3</th>\n",
       "      <td>GRUPO B</td>\n",
       "      <td>142</td>\n",
       "    </tr>\n",
       "    <tr>\n",
       "      <th>4</th>\n",
       "      <td>GRUPO D</td>\n",
       "      <td>139</td>\n",
       "    </tr>\n",
       "    <tr>\n",
       "      <th>5</th>\n",
       "      <td>GRUPO C</td>\n",
       "      <td>20</td>\n",
       "    </tr>\n",
       "    <tr>\n",
       "      <th>6</th>\n",
       "      <td>GRUPO E</td>\n",
       "      <td>7</td>\n",
       "    </tr>\n",
       "    <tr>\n",
       "      <th>7</th>\n",
       "      <td>GRUPO J</td>\n",
       "      <td>5</td>\n",
       "    </tr>\n",
       "    <tr>\n",
       "      <th>8</th>\n",
       "      <td>GRUPO H</td>\n",
       "      <td>5</td>\n",
       "    </tr>\n",
       "    <tr>\n",
       "      <th>9</th>\n",
       "      <td>GRUPO D</td>\n",
       "      <td>2</td>\n",
       "    </tr>\n",
       "    <tr>\n",
       "      <th>10</th>\n",
       "      <td>GRUPO A</td>\n",
       "      <td>1</td>\n",
       "    </tr>\n",
       "  </tbody>\n",
       "</table>\n",
       "</div>"
      ],
      "text/plain": [
       "       grupo  total_registros\n",
       "0    GRUPO C              823\n",
       "1    GRUPO E              158\n",
       "2    GRUPO A              157\n",
       "3    GRUPO B              142\n",
       "4    GRUPO D              139\n",
       "5   GRUPO C                20\n",
       "6   GRUPO E                 7\n",
       "7    GRUPO J                5\n",
       "8    GRUPO H                5\n",
       "9   GRUPO D                 2\n",
       "10  GRUPO A                 1"
      ]
     },
     "execution_count": 174,
     "metadata": {},
     "output_type": "execute_result"
    }
   ],
   "source": [
    "# verificando qual o total de registros agrupados por grupo \n",
    "df_cancelamentos_filtrada.groupby(['grupo']).size().sort_values(ascending=False).reset_index(name='total_registros')"
   ]
  },
  {
   "cell_type": "code",
   "execution_count": 175,
   "metadata": {},
   "outputs": [],
   "source": [
    "# CONCLUSÕES\n",
    "# Verificamos que o grupo que apresentou expressivamente mais solicitações de cancelamento foi o Grupo C - Ampla concorrência, independentemente da declaração de renda, de escola, \n",
    "# de cor ou de origem racial seguido do Grupo E - Candidatos (as) que independentemente da renda tenham cursado integralmente o ensino médio em escolas públicas e Grupo A - \n",
    "# Candidatos (as) autodeclarados (as) pretos (as), pardos(as) ou indígenas, com renda familiar bruta per capita igual ou inferior a um\n",
    "# salário mínimo e que tenham cursado integralmente o ensino médio em escolas públicas"
   ]
  },
  {
   "cell_type": "markdown",
   "metadata": {},
   "source": [
    "#### Análise do cancelamento por Tipo de ingresso"
   ]
  },
  {
   "cell_type": "code",
   "execution_count": 176,
   "metadata": {},
   "outputs": [
    {
     "data": {
      "text/html": [
       "<div>\n",
       "<style scoped>\n",
       "    .dataframe tbody tr th:only-of-type {\n",
       "        vertical-align: middle;\n",
       "    }\n",
       "\n",
       "    .dataframe tbody tr th {\n",
       "        vertical-align: top;\n",
       "    }\n",
       "\n",
       "    .dataframe thead th {\n",
       "        text-align: right;\n",
       "    }\n",
       "</style>\n",
       "<table border=\"1\" class=\"dataframe\">\n",
       "  <thead>\n",
       "    <tr style=\"text-align: right;\">\n",
       "      <th></th>\n",
       "      <th>tipo_ingresso</th>\n",
       "      <th>total_registros</th>\n",
       "    </tr>\n",
       "  </thead>\n",
       "  <tbody>\n",
       "    <tr>\n",
       "      <th>0</th>\n",
       "      <td>SISU</td>\n",
       "      <td>915</td>\n",
       "    </tr>\n",
       "    <tr>\n",
       "      <th>1</th>\n",
       "      <td>PAS</td>\n",
       "      <td>405</td>\n",
       "    </tr>\n",
       "    <tr>\n",
       "      <th>2</th>\n",
       "      <td>VESTIBULAR</td>\n",
       "      <td>139</td>\n",
       "    </tr>\n",
       "    <tr>\n",
       "      <th>3</th>\n",
       "      <td>Matrícula como Graduado</td>\n",
       "      <td>23</td>\n",
       "    </tr>\n",
       "    <tr>\n",
       "      <th>4</th>\n",
       "      <td>Nova Modalidade/Habilitação</td>\n",
       "      <td>18</td>\n",
       "    </tr>\n",
       "    <tr>\n",
       "      <th>5</th>\n",
       "      <td>Opcao segundo ciclo do B. I.  em Ciencias Humanas</td>\n",
       "      <td>17</td>\n",
       "    </tr>\n",
       "    <tr>\n",
       "      <th>6</th>\n",
       "      <td>Opcao segundo ciclo do B. I.  em Artes de Design</td>\n",
       "      <td>16</td>\n",
       "    </tr>\n",
       "    <tr>\n",
       "      <th>7</th>\n",
       "      <td>Opcao segundo ciclo do Bacharelado Ciencias Ex...</td>\n",
       "      <td>8</td>\n",
       "    </tr>\n",
       "    <tr>\n",
       "      <th>8</th>\n",
       "      <td>Transferência</td>\n",
       "      <td>8</td>\n",
       "    </tr>\n",
       "    <tr>\n",
       "      <th>9</th>\n",
       "      <td>Mudança de Curso</td>\n",
       "      <td>1</td>\n",
       "    </tr>\n",
       "  </tbody>\n",
       "</table>\n",
       "</div>"
      ],
      "text/plain": [
       "                                       tipo_ingresso  total_registros\n",
       "0                                               SISU              915\n",
       "1                                                PAS              405\n",
       "2                                         VESTIBULAR              139\n",
       "3                            Matrícula como Graduado               23\n",
       "4                        Nova Modalidade/Habilitação               18\n",
       "5  Opcao segundo ciclo do B. I.  em Ciencias Humanas               17\n",
       "6   Opcao segundo ciclo do B. I.  em Artes de Design               16\n",
       "7  Opcao segundo ciclo do Bacharelado Ciencias Ex...                8\n",
       "8                                      Transferência                8\n",
       "9                                   Mudança de Curso                1"
      ]
     },
     "execution_count": 176,
     "metadata": {},
     "output_type": "execute_result"
    }
   ],
   "source": [
    "# verificando qual o total de registros agrupados por grupo e por tipo de ingresso\n",
    "df_cancelamentos.groupby('tipo_ingresso').size().sort_values(ascending=False).reset_index(name='total_registros')"
   ]
  },
  {
   "cell_type": "code",
   "execution_count": 177,
   "metadata": {},
   "outputs": [
    {
     "data": {
      "text/html": [
       "<div>\n",
       "<style scoped>\n",
       "    .dataframe tbody tr th:only-of-type {\n",
       "        vertical-align: middle;\n",
       "    }\n",
       "\n",
       "    .dataframe tbody tr th {\n",
       "        vertical-align: top;\n",
       "    }\n",
       "\n",
       "    .dataframe thead th {\n",
       "        text-align: right;\n",
       "    }\n",
       "</style>\n",
       "<table border=\"1\" class=\"dataframe\">\n",
       "  <thead>\n",
       "    <tr style=\"text-align: right;\">\n",
       "      <th></th>\n",
       "      <th>tipo_ingresso</th>\n",
       "      <th>grupo</th>\n",
       "      <th>total_registros</th>\n",
       "    </tr>\n",
       "  </thead>\n",
       "  <tbody>\n",
       "    <tr>\n",
       "      <th>0</th>\n",
       "      <td>SISU</td>\n",
       "      <td>GRUPO C</td>\n",
       "      <td>525</td>\n",
       "    </tr>\n",
       "    <tr>\n",
       "      <th>1</th>\n",
       "      <td>PAS</td>\n",
       "      <td>GRUPO C</td>\n",
       "      <td>230</td>\n",
       "    </tr>\n",
       "    <tr>\n",
       "      <th>2</th>\n",
       "      <td>SISU</td>\n",
       "      <td>GRUPO A</td>\n",
       "      <td>122</td>\n",
       "    </tr>\n",
       "    <tr>\n",
       "      <th>3</th>\n",
       "      <td>SISU</td>\n",
       "      <td>GRUPO D</td>\n",
       "      <td>100</td>\n",
       "    </tr>\n",
       "    <tr>\n",
       "      <th>4</th>\n",
       "      <td>SISU</td>\n",
       "      <td>GRUPO B</td>\n",
       "      <td>88</td>\n",
       "    </tr>\n",
       "    <tr>\n",
       "      <th>5</th>\n",
       "      <td>PAS</td>\n",
       "      <td>GRUPO E</td>\n",
       "      <td>77</td>\n",
       "    </tr>\n",
       "    <tr>\n",
       "      <th>6</th>\n",
       "      <td>SISU</td>\n",
       "      <td>GRUPO E</td>\n",
       "      <td>73</td>\n",
       "    </tr>\n",
       "    <tr>\n",
       "      <th>7</th>\n",
       "      <td>VESTIBULAR</td>\n",
       "      <td>GRUPO C</td>\n",
       "      <td>68</td>\n",
       "    </tr>\n",
       "    <tr>\n",
       "      <th>8</th>\n",
       "      <td>PAS</td>\n",
       "      <td>GRUPO B</td>\n",
       "      <td>41</td>\n",
       "    </tr>\n",
       "    <tr>\n",
       "      <th>9</th>\n",
       "      <td>PAS</td>\n",
       "      <td>GRUPO D</td>\n",
       "      <td>30</td>\n",
       "    </tr>\n",
       "    <tr>\n",
       "      <th>10</th>\n",
       "      <td>PAS</td>\n",
       "      <td>GRUPO A</td>\n",
       "      <td>27</td>\n",
       "    </tr>\n",
       "    <tr>\n",
       "      <th>11</th>\n",
       "      <td>VESTIBULAR</td>\n",
       "      <td>GRUPO C</td>\n",
       "      <td>19</td>\n",
       "    </tr>\n",
       "    <tr>\n",
       "      <th>12</th>\n",
       "      <td>VESTIBULAR</td>\n",
       "      <td>GRUPO B</td>\n",
       "      <td>13</td>\n",
       "    </tr>\n",
       "    <tr>\n",
       "      <th>13</th>\n",
       "      <td>VESTIBULAR</td>\n",
       "      <td>GRUPO D</td>\n",
       "      <td>9</td>\n",
       "    </tr>\n",
       "    <tr>\n",
       "      <th>14</th>\n",
       "      <td>VESTIBULAR</td>\n",
       "      <td>GRUPO A</td>\n",
       "      <td>8</td>\n",
       "    </tr>\n",
       "    <tr>\n",
       "      <th>15</th>\n",
       "      <td>VESTIBULAR</td>\n",
       "      <td>GRUPO E</td>\n",
       "      <td>8</td>\n",
       "    </tr>\n",
       "    <tr>\n",
       "      <th>16</th>\n",
       "      <td>VESTIBULAR</td>\n",
       "      <td>GRUPO E</td>\n",
       "      <td>7</td>\n",
       "    </tr>\n",
       "    <tr>\n",
       "      <th>17</th>\n",
       "      <td>SISU</td>\n",
       "      <td>GRUPO H</td>\n",
       "      <td>5</td>\n",
       "    </tr>\n",
       "    <tr>\n",
       "      <th>18</th>\n",
       "      <td>VESTIBULAR</td>\n",
       "      <td>GRUPO J</td>\n",
       "      <td>4</td>\n",
       "    </tr>\n",
       "    <tr>\n",
       "      <th>19</th>\n",
       "      <td>VESTIBULAR</td>\n",
       "      <td>GRUPO D</td>\n",
       "      <td>2</td>\n",
       "    </tr>\n",
       "    <tr>\n",
       "      <th>20</th>\n",
       "      <td>VESTIBULAR</td>\n",
       "      <td>GRUPO A</td>\n",
       "      <td>1</td>\n",
       "    </tr>\n",
       "    <tr>\n",
       "      <th>21</th>\n",
       "      <td>SISU</td>\n",
       "      <td>GRUPO C</td>\n",
       "      <td>1</td>\n",
       "    </tr>\n",
       "    <tr>\n",
       "      <th>22</th>\n",
       "      <td>SISU</td>\n",
       "      <td>GRUPO J</td>\n",
       "      <td>1</td>\n",
       "    </tr>\n",
       "  </tbody>\n",
       "</table>\n",
       "</div>"
      ],
      "text/plain": [
       "   tipo_ingresso     grupo  total_registros\n",
       "0           SISU   GRUPO C              525\n",
       "1            PAS   GRUPO C              230\n",
       "2           SISU   GRUPO A              122\n",
       "3           SISU   GRUPO D              100\n",
       "4           SISU   GRUPO B               88\n",
       "5            PAS   GRUPO E               77\n",
       "6           SISU   GRUPO E               73\n",
       "7     VESTIBULAR   GRUPO C               68\n",
       "8            PAS   GRUPO B               41\n",
       "9            PAS   GRUPO D               30\n",
       "10           PAS   GRUPO A               27\n",
       "11    VESTIBULAR  GRUPO C                19\n",
       "12    VESTIBULAR   GRUPO B               13\n",
       "13    VESTIBULAR   GRUPO D                9\n",
       "14    VESTIBULAR   GRUPO A                8\n",
       "15    VESTIBULAR   GRUPO E                8\n",
       "16    VESTIBULAR  GRUPO E                 7\n",
       "17          SISU   GRUPO H                5\n",
       "18    VESTIBULAR   GRUPO J                4\n",
       "19    VESTIBULAR  GRUPO D                 2\n",
       "20    VESTIBULAR  GRUPO A                 1\n",
       "21          SISU  GRUPO C                 1\n",
       "22          SISU   GRUPO J                1"
      ]
     },
     "execution_count": 177,
     "metadata": {},
     "output_type": "execute_result"
    }
   ],
   "source": [
    "# verificando qual o total de registros agrupados por grupo e por tipo de ingresso\n",
    "df_cancelamentos_filtrada.groupby(['tipo_ingresso','grupo']).size().sort_values(ascending=False).reset_index(name='total_registros')"
   ]
  },
  {
   "cell_type": "code",
   "execution_count": 178,
   "metadata": {},
   "outputs": [],
   "source": [
    "## CONCLUSÕES\n",
    "# Os cancelamentos são dominados por alunos que ingressaram pelo SISU (915), seguido pelo PAS (405), indicando que esses processos seletivos \n",
    "# representam a maior parte das desistências. Vestibular (139) tem um volume menor, mas ainda relevante. As demais formas de ingresso possuem \n",
    "# números significativamente mais baixos, com destaque para Transferência (8), Mudança de Curso (1) e Nova Modalidade/Habilitação (18), \n",
    "# sugerindo que alunos que entram por essas vias tendem a permanecer mais na instituição. O alto número de cancelamentos via SISU e PAS pode \n",
    "# indicar desafios na adaptação desses alunos ao curso ou à universidade."
   ]
  },
  {
   "cell_type": "markdown",
   "metadata": {},
   "source": [
    "### FIM"
   ]
  }
 ],
 "metadata": {
  "kernelspec": {
   "display_name": "Python 3",
   "language": "python",
   "name": "python3"
  },
  "language_info": {
   "codemirror_mode": {
    "name": "ipython",
    "version": 3
   },
   "file_extension": ".py",
   "mimetype": "text/x-python",
   "name": "python",
   "nbconvert_exporter": "python",
   "pygments_lexer": "ipython3",
   "version": "3.11.8"
  }
 },
 "nbformat": 4,
 "nbformat_minor": 2
}
